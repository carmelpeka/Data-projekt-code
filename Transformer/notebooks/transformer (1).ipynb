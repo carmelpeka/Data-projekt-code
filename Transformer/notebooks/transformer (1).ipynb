{
 "cells": [
  {
   "cell_type": "code",
   "execution_count": 361,
   "id": "715088f0-73c7-4dfd-ab0d-817ee54f2d7f",
   "metadata": {},
   "outputs": [],
   "source": [
    "import tensorflow as tf\n",
    "import numpy as np"
   ]
  },
  {
   "cell_type": "code",
   "execution_count": 371,
   "id": "fb80b072-bc21-4aa6-bd9e-53d7ae7b5d5b",
   "metadata": {},
   "outputs": [],
   "source": [
    "input_enc=[[\"salut\",\"comment\",\"ca\",\"va\",\"?\"]]\n",
    "output_dec=[[\"<start>\",\"how\",\"are\",\"you\",\"?\"]]"
   ]
  },
  {
   "cell_type": "code",
   "execution_count": null,
   "id": "6ae140e5-3d6f-4901-8ffd-a983a63d4afc",
   "metadata": {},
   "outputs": [],
   "source": []
  },
  {
   "cell_type": "code",
   "execution_count": 372,
   "id": "3eb135a5-5e8e-4a00-be63-d62740a6e65c",
   "metadata": {},
   "outputs": [],
   "source": [
    "def get_vocabulary(sequences):\n",
    "    info={}\n",
    "    for sequence in sequences:\n",
    "        for word in sequence:\n",
    "            if word not in info:\n",
    "                info[word]=len(info)\n",
    "    return info           "
   ]
  },
  {
   "cell_type": "code",
   "execution_count": 374,
   "id": "ba510400-02e8-4dcb-84ab-f18acecf4dda",
   "metadata": {},
   "outputs": [],
   "source": [
    "input_voc=get_vocabulary(input_enc)\n",
    "output_voc=get_vocabulary(output_dec)"
   ]
  },
  {
   "cell_type": "code",
   "execution_count": 375,
   "id": "532d0e1b-a71b-4142-adf1-94fa5f2ed3a5",
   "metadata": {},
   "outputs": [],
   "source": [
    "input_voc[\"<END>\"]=len(input_voc)\n",
    "input_voc[\"<PAD>\"]=len(input_voc)\n",
    "output_voc[\"<END>\"]=len(input_voc)\n",
    "output_voc[\"<PAD>\"]=len(input_voc)"
   ]
  },
  {
   "cell_type": "code",
   "execution_count": 376,
   "id": "f445c86b-6e33-4668-8f0d-b4efec19b263",
   "metadata": {},
   "outputs": [
    {
     "data": {
      "text/plain": [
       "{'<start>': 0, 'how': 1, 'are': 2, 'you': 3, '?': 4, '<END>': 7, '<PAD>': 7}"
      ]
     },
     "execution_count": 376,
     "metadata": {},
     "output_type": "execute_result"
    }
   ],
   "source": [
    "input_voc\n",
    "output_voc"
   ]
  },
  {
   "cell_type": "code",
   "execution_count": 377,
   "id": "7bec11b4-dee4-4fa5-86a2-fd7ffa617127",
   "metadata": {},
   "outputs": [],
   "source": [
    "def sequences_to_int(sequences,voc):\n",
    "    for sequence in sequences:\n",
    "        for s, word in enumerate(sequence):\n",
    "            sequence[s]=voc[word]\n",
    "    return np.array(sequences)        "
   ]
  },
  {
   "cell_type": "code",
   "execution_count": 379,
   "id": "1686f9ee-aeda-405a-b79a-ddf957c0a20e",
   "metadata": {},
   "outputs": [],
   "source": [
    "input_seq=sequences_to_int(input_enc,input_voc)\n",
    "output_seq=sequences_to_int(output_dec,output_voc)"
   ]
  },
  {
   "cell_type": "code",
   "execution_count": 380,
   "id": "4c151b4b-3958-475f-ac2d-424aaf58a6b4",
   "metadata": {},
   "outputs": [],
   "source": [
    "class EmbeddingLayer(tf.keras.layers.Layer):\n",
    "    def __init__(self,nb_token,**kwargs):\n",
    "        self.nb_token=nb_token\n",
    "        super(**kwargs).__init__()\n",
    "        \n",
    "    def build(self,input_shape):\n",
    "        self.word_embedding=tf.keras.layers.Embedding(\n",
    "            self.nb_token,256\n",
    "        )\n",
    "        super().build(input_shape)\n",
    "\n",
    "    def call(self,x):\n",
    "        embed=self.word_embedding(x)\n",
    "        return embed\n",
    "\n",
    "class ScaleDotProductAttention(tf.keras.layers.Layer):\n",
    "    def __init__(self,**kwargs):\n",
    "        super(**kwargs).__init__()\n",
    "        \n",
    "    def build(self,input_shape):\n",
    "        self.query_layer=tf.keras.layers.Dense(256)\n",
    "        self.value_layer=tf.keras.layers.Dense(256)\n",
    "        self.key_layer=tf.keras.layers.Dense(256)\n",
    "        super().build(input_shape)\n",
    "\n",
    "    def call(self,x):\n",
    "        Q=self.query_layer(x)\n",
    "        K=self.key_layer(x)\n",
    "        V=self.value_layer(x)\n",
    "        QK=tf.matmul(Q,K,transpose_b=True)\n",
    "        QK=QK/tf.math.sqrt(256.)\n",
    "        print(QK.shape)\n",
    "        softmax_QK=tf.nn.softmax(QK,axis=-1)\n",
    "        attention=tf.matmul(softmax_QK,V)\n",
    "        print(Q.shape,K.shape,V.shape)\n",
    "        print(softmax_QK.shape)\n",
    "        print(attention.shape)\n",
    "        \n",
    "        \n",
    "        return attention\n",
    "def test():\n",
    "    layer_input=tf.keras.Input(shape=(5,))\n",
    "    embedding=EmbeddingLayer(nb_token=5)(layer_input)\n",
    "    attention=ScaleDotProductAttention()(embedding)\n",
    "    model=tf.keras.Model(layer_input,attention)\n",
    "    model.summary()\n",
    "    return model"
   ]
  },
  {
   "cell_type": "code",
   "execution_count": 382,
   "id": "c4fb0113-701b-4959-afaf-ddc03d7a2f1a",
   "metadata": {},
   "outputs": [
    {
     "name": "stdout",
     "output_type": "stream",
     "text": [
      "(None, 5, 5)\n",
      "(None, 5, 256) (None, 5, 256) (None, 5, 256)\n",
      "(None, 5, 5)\n",
      "(None, 5, 256)\n"
     ]
    },
    {
     "data": {
      "text/html": [
       "<pre style=\"white-space:pre;overflow-x:auto;line-height:normal;font-family:Menlo,'DejaVu Sans Mono',consolas,'Courier New',monospace\"><span style=\"font-weight: bold\">Model: \"functional_82\"</span>\n",
       "</pre>\n"
      ],
      "text/plain": [
       "\u001b[1mModel: \"functional_82\"\u001b[0m\n"
      ]
     },
     "metadata": {},
     "output_type": "display_data"
    },
    {
     "data": {
      "text/html": [
       "<pre style=\"white-space:pre;overflow-x:auto;line-height:normal;font-family:Menlo,'DejaVu Sans Mono',consolas,'Courier New',monospace\">┏━━━━━━━━━━━━━━━━━━━━━━━━━━━━━━━━━┳━━━━━━━━━━━━━━━━━━━━━━━━┳━━━━━━━━━━━━━━━┓\n",
       "┃<span style=\"font-weight: bold\"> Layer (type)                    </span>┃<span style=\"font-weight: bold\"> Output Shape           </span>┃<span style=\"font-weight: bold\">       Param # </span>┃\n",
       "┡━━━━━━━━━━━━━━━━━━━━━━━━━━━━━━━━━╇━━━━━━━━━━━━━━━━━━━━━━━━╇━━━━━━━━━━━━━━━┩\n",
       "│ input_layer_150 (<span style=\"color: #0087ff; text-decoration-color: #0087ff\">InputLayer</span>)    │ (<span style=\"color: #00d7ff; text-decoration-color: #00d7ff\">None</span>, <span style=\"color: #00af00; text-decoration-color: #00af00\">5</span>)              │             <span style=\"color: #00af00; text-decoration-color: #00af00\">0</span> │\n",
       "├─────────────────────────────────┼────────────────────────┼───────────────┤\n",
       "│ embedding_layer_145             │ (<span style=\"color: #00d7ff; text-decoration-color: #00d7ff\">None</span>, <span style=\"color: #00af00; text-decoration-color: #00af00\">5</span>, <span style=\"color: #00af00; text-decoration-color: #00af00\">256</span>)         │         <span style=\"color: #00af00; text-decoration-color: #00af00\">1,280</span> │\n",
       "│ (<span style=\"color: #0087ff; text-decoration-color: #0087ff\">EmbeddingLayer</span>)                │                        │               │\n",
       "├─────────────────────────────────┼────────────────────────┼───────────────┤\n",
       "│ scale_dot_product_attention_45  │ (<span style=\"color: #00d7ff; text-decoration-color: #00d7ff\">None</span>, <span style=\"color: #00af00; text-decoration-color: #00af00\">5</span>, <span style=\"color: #00af00; text-decoration-color: #00af00\">256</span>)         │       <span style=\"color: #00af00; text-decoration-color: #00af00\">197,376</span> │\n",
       "│ (<span style=\"color: #0087ff; text-decoration-color: #0087ff\">ScaleDotProductAttention</span>)      │                        │               │\n",
       "└─────────────────────────────────┴────────────────────────┴───────────────┘\n",
       "</pre>\n"
      ],
      "text/plain": [
       "┏━━━━━━━━━━━━━━━━━━━━━━━━━━━━━━━━━┳━━━━━━━━━━━━━━━━━━━━━━━━┳━━━━━━━━━━━━━━━┓\n",
       "┃\u001b[1m \u001b[0m\u001b[1mLayer (type)                   \u001b[0m\u001b[1m \u001b[0m┃\u001b[1m \u001b[0m\u001b[1mOutput Shape          \u001b[0m\u001b[1m \u001b[0m┃\u001b[1m \u001b[0m\u001b[1m      Param #\u001b[0m\u001b[1m \u001b[0m┃\n",
       "┡━━━━━━━━━━━━━━━━━━━━━━━━━━━━━━━━━╇━━━━━━━━━━━━━━━━━━━━━━━━╇━━━━━━━━━━━━━━━┩\n",
       "│ input_layer_150 (\u001b[38;5;33mInputLayer\u001b[0m)    │ (\u001b[38;5;45mNone\u001b[0m, \u001b[38;5;34m5\u001b[0m)              │             \u001b[38;5;34m0\u001b[0m │\n",
       "├─────────────────────────────────┼────────────────────────┼───────────────┤\n",
       "│ embedding_layer_145             │ (\u001b[38;5;45mNone\u001b[0m, \u001b[38;5;34m5\u001b[0m, \u001b[38;5;34m256\u001b[0m)         │         \u001b[38;5;34m1,280\u001b[0m │\n",
       "│ (\u001b[38;5;33mEmbeddingLayer\u001b[0m)                │                        │               │\n",
       "├─────────────────────────────────┼────────────────────────┼───────────────┤\n",
       "│ scale_dot_product_attention_45  │ (\u001b[38;5;45mNone\u001b[0m, \u001b[38;5;34m5\u001b[0m, \u001b[38;5;34m256\u001b[0m)         │       \u001b[38;5;34m197,376\u001b[0m │\n",
       "│ (\u001b[38;5;33mScaleDotProductAttention\u001b[0m)      │                        │               │\n",
       "└─────────────────────────────────┴────────────────────────┴───────────────┘\n"
      ]
     },
     "metadata": {},
     "output_type": "display_data"
    },
    {
     "data": {
      "text/html": [
       "<pre style=\"white-space:pre;overflow-x:auto;line-height:normal;font-family:Menlo,'DejaVu Sans Mono',consolas,'Courier New',monospace\"><span style=\"font-weight: bold\"> Total params: </span><span style=\"color: #00af00; text-decoration-color: #00af00\">198,656</span> (776.00 KB)\n",
       "</pre>\n"
      ],
      "text/plain": [
       "\u001b[1m Total params: \u001b[0m\u001b[38;5;34m198,656\u001b[0m (776.00 KB)\n"
      ]
     },
     "metadata": {},
     "output_type": "display_data"
    },
    {
     "data": {
      "text/html": [
       "<pre style=\"white-space:pre;overflow-x:auto;line-height:normal;font-family:Menlo,'DejaVu Sans Mono',consolas,'Courier New',monospace\"><span style=\"font-weight: bold\"> Trainable params: </span><span style=\"color: #00af00; text-decoration-color: #00af00\">198,656</span> (776.00 KB)\n",
       "</pre>\n"
      ],
      "text/plain": [
       "\u001b[1m Trainable params: \u001b[0m\u001b[38;5;34m198,656\u001b[0m (776.00 KB)\n"
      ]
     },
     "metadata": {},
     "output_type": "display_data"
    },
    {
     "data": {
      "text/html": [
       "<pre style=\"white-space:pre;overflow-x:auto;line-height:normal;font-family:Menlo,'DejaVu Sans Mono',consolas,'Courier New',monospace\"><span style=\"font-weight: bold\"> Non-trainable params: </span><span style=\"color: #00af00; text-decoration-color: #00af00\">0</span> (0.00 B)\n",
       "</pre>\n"
      ],
      "text/plain": [
       "\u001b[1m Non-trainable params: \u001b[0m\u001b[38;5;34m0\u001b[0m (0.00 B)\n"
      ]
     },
     "metadata": {},
     "output_type": "display_data"
    },
    {
     "name": "stdout",
     "output_type": "stream",
     "text": [
      "(1, 5, 5)\n",
      "(1, 5, 256) (1, 5, 256) (1, 5, 256)\n",
      "(1, 5, 5)\n",
      "(1, 5, 256)\n"
     ]
    },
    {
     "data": {
      "text/plain": [
       "<tf.Tensor: shape=(1, 5, 256), dtype=float32, numpy=\n",
       "array([[[-0.02105662, -0.0090131 , -0.00352302, ..., -0.01409042,\n",
       "          0.00509213,  0.00772291],\n",
       "        [-0.02106722, -0.00902023, -0.0035157 , ..., -0.01407184,\n",
       "          0.0050868 ,  0.0077153 ],\n",
       "        [-0.02107277, -0.00901308, -0.00350858, ..., -0.01407661,\n",
       "          0.00508425,  0.00772282],\n",
       "        [-0.0210785 , -0.0090243 , -0.0035174 , ..., -0.01406507,\n",
       "          0.00508105,  0.00771324],\n",
       "        [-0.02107246, -0.00901838, -0.00353265, ..., -0.01408172,\n",
       "          0.0050823 ,  0.00770827]]], dtype=float32)>"
      ]
     },
     "execution_count": 382,
     "metadata": {},
     "output_type": "execute_result"
    }
   ],
   "source": [
    "m_test=test()\n",
    "m_test(input_seq)"
   ]
  },
  {
   "cell_type": "code",
   "execution_count": null,
   "id": "d253a619-fbd1-4770-99ef-76048cd13d6b",
   "metadata": {},
   "outputs": [],
   "source": []
  },
  {
   "cell_type": "code",
   "execution_count": null,
   "id": "0e4e6cdf-1dad-4207-915c-1a2120cce4a7",
   "metadata": {},
   "outputs": [],
   "source": []
  },
  {
   "cell_type": "code",
   "execution_count": 383,
   "id": "247a543b-dcff-43f2-9e90-60c28ddce3ae",
   "metadata": {},
   "outputs": [
    {
     "name": "stdout",
     "output_type": "stream",
     "text": [
      "(None, 5, 5)\n",
      "(None, 5, 256) (None, 5, 256) (None, 5, 256)\n",
      "(None, 5, 5)\n",
      "(None, 5, 256)\n"
     ]
    },
    {
     "data": {
      "text/html": [
       "<pre style=\"white-space:pre;overflow-x:auto;line-height:normal;font-family:Menlo,'DejaVu Sans Mono',consolas,'Courier New',monospace\"><span style=\"font-weight: bold\">Model: \"functional_83\"</span>\n",
       "</pre>\n"
      ],
      "text/plain": [
       "\u001b[1mModel: \"functional_83\"\u001b[0m\n"
      ]
     },
     "metadata": {},
     "output_type": "display_data"
    },
    {
     "data": {
      "text/html": [
       "<pre style=\"white-space:pre;overflow-x:auto;line-height:normal;font-family:Menlo,'DejaVu Sans Mono',consolas,'Courier New',monospace\">┏━━━━━━━━━━━━━━━━━━━━━━━━━━━━━━━━━┳━━━━━━━━━━━━━━━━━━━━━━━━┳━━━━━━━━━━━━━━━┓\n",
       "┃<span style=\"font-weight: bold\"> Layer (type)                    </span>┃<span style=\"font-weight: bold\"> Output Shape           </span>┃<span style=\"font-weight: bold\">       Param # </span>┃\n",
       "┡━━━━━━━━━━━━━━━━━━━━━━━━━━━━━━━━━╇━━━━━━━━━━━━━━━━━━━━━━━━╇━━━━━━━━━━━━━━━┩\n",
       "│ input_layer_151 (<span style=\"color: #0087ff; text-decoration-color: #0087ff\">InputLayer</span>)    │ (<span style=\"color: #00d7ff; text-decoration-color: #00d7ff\">None</span>, <span style=\"color: #00af00; text-decoration-color: #00af00\">5</span>)              │             <span style=\"color: #00af00; text-decoration-color: #00af00\">0</span> │\n",
       "├─────────────────────────────────┼────────────────────────┼───────────────┤\n",
       "│ embedding_layer_146             │ (<span style=\"color: #00d7ff; text-decoration-color: #00d7ff\">None</span>, <span style=\"color: #00af00; text-decoration-color: #00af00\">5</span>, <span style=\"color: #00af00; text-decoration-color: #00af00\">256</span>)         │         <span style=\"color: #00af00; text-decoration-color: #00af00\">1,280</span> │\n",
       "│ (<span style=\"color: #0087ff; text-decoration-color: #0087ff\">EmbeddingLayer</span>)                │                        │               │\n",
       "├─────────────────────────────────┼────────────────────────┼───────────────┤\n",
       "│ scale_dot_product_attention_46  │ (<span style=\"color: #00d7ff; text-decoration-color: #00d7ff\">None</span>, <span style=\"color: #00af00; text-decoration-color: #00af00\">5</span>, <span style=\"color: #00af00; text-decoration-color: #00af00\">256</span>)         │       <span style=\"color: #00af00; text-decoration-color: #00af00\">197,376</span> │\n",
       "│ (<span style=\"color: #0087ff; text-decoration-color: #0087ff\">ScaleDotProductAttention</span>)      │                        │               │\n",
       "└─────────────────────────────────┴────────────────────────┴───────────────┘\n",
       "</pre>\n"
      ],
      "text/plain": [
       "┏━━━━━━━━━━━━━━━━━━━━━━━━━━━━━━━━━┳━━━━━━━━━━━━━━━━━━━━━━━━┳━━━━━━━━━━━━━━━┓\n",
       "┃\u001b[1m \u001b[0m\u001b[1mLayer (type)                   \u001b[0m\u001b[1m \u001b[0m┃\u001b[1m \u001b[0m\u001b[1mOutput Shape          \u001b[0m\u001b[1m \u001b[0m┃\u001b[1m \u001b[0m\u001b[1m      Param #\u001b[0m\u001b[1m \u001b[0m┃\n",
       "┡━━━━━━━━━━━━━━━━━━━━━━━━━━━━━━━━━╇━━━━━━━━━━━━━━━━━━━━━━━━╇━━━━━━━━━━━━━━━┩\n",
       "│ input_layer_151 (\u001b[38;5;33mInputLayer\u001b[0m)    │ (\u001b[38;5;45mNone\u001b[0m, \u001b[38;5;34m5\u001b[0m)              │             \u001b[38;5;34m0\u001b[0m │\n",
       "├─────────────────────────────────┼────────────────────────┼───────────────┤\n",
       "│ embedding_layer_146             │ (\u001b[38;5;45mNone\u001b[0m, \u001b[38;5;34m5\u001b[0m, \u001b[38;5;34m256\u001b[0m)         │         \u001b[38;5;34m1,280\u001b[0m │\n",
       "│ (\u001b[38;5;33mEmbeddingLayer\u001b[0m)                │                        │               │\n",
       "├─────────────────────────────────┼────────────────────────┼───────────────┤\n",
       "│ scale_dot_product_attention_46  │ (\u001b[38;5;45mNone\u001b[0m, \u001b[38;5;34m5\u001b[0m, \u001b[38;5;34m256\u001b[0m)         │       \u001b[38;5;34m197,376\u001b[0m │\n",
       "│ (\u001b[38;5;33mScaleDotProductAttention\u001b[0m)      │                        │               │\n",
       "└─────────────────────────────────┴────────────────────────┴───────────────┘\n"
      ]
     },
     "metadata": {},
     "output_type": "display_data"
    },
    {
     "data": {
      "text/html": [
       "<pre style=\"white-space:pre;overflow-x:auto;line-height:normal;font-family:Menlo,'DejaVu Sans Mono',consolas,'Courier New',monospace\"><span style=\"font-weight: bold\"> Total params: </span><span style=\"color: #00af00; text-decoration-color: #00af00\">198,656</span> (776.00 KB)\n",
       "</pre>\n"
      ],
      "text/plain": [
       "\u001b[1m Total params: \u001b[0m\u001b[38;5;34m198,656\u001b[0m (776.00 KB)\n"
      ]
     },
     "metadata": {},
     "output_type": "display_data"
    },
    {
     "data": {
      "text/html": [
       "<pre style=\"white-space:pre;overflow-x:auto;line-height:normal;font-family:Menlo,'DejaVu Sans Mono',consolas,'Courier New',monospace\"><span style=\"font-weight: bold\"> Trainable params: </span><span style=\"color: #00af00; text-decoration-color: #00af00\">198,656</span> (776.00 KB)\n",
       "</pre>\n"
      ],
      "text/plain": [
       "\u001b[1m Trainable params: \u001b[0m\u001b[38;5;34m198,656\u001b[0m (776.00 KB)\n"
      ]
     },
     "metadata": {},
     "output_type": "display_data"
    },
    {
     "data": {
      "text/html": [
       "<pre style=\"white-space:pre;overflow-x:auto;line-height:normal;font-family:Menlo,'DejaVu Sans Mono',consolas,'Courier New',monospace\"><span style=\"font-weight: bold\"> Non-trainable params: </span><span style=\"color: #00af00; text-decoration-color: #00af00\">0</span> (0.00 B)\n",
       "</pre>\n"
      ],
      "text/plain": [
       "\u001b[1m Non-trainable params: \u001b[0m\u001b[38;5;34m0\u001b[0m (0.00 B)\n"
      ]
     },
     "metadata": {},
     "output_type": "display_data"
    },
    {
     "name": "stdout",
     "output_type": "stream",
     "text": [
      "(1, 5, 5)\n",
      "(1, 5, 256) (1, 5, 256) (1, 5, 256)\n",
      "(1, 5, 5)\n",
      "(1, 5, 256)\n"
     ]
    },
    {
     "data": {
      "text/plain": [
       "<tf.Tensor: shape=(1, 5, 256), dtype=float32, numpy=\n",
       "array([[[-0.01239456,  0.02060347, -0.02956191, ...,  0.02589235,\n",
       "          0.00893511,  0.00756682],\n",
       "        [-0.01239261,  0.02060903, -0.02957984, ...,  0.02590458,\n",
       "          0.00895069,  0.00756892],\n",
       "        [-0.01237612,  0.02061018, -0.02957685, ...,  0.02591803,\n",
       "          0.00894982,  0.00756137],\n",
       "        [-0.01238872,  0.0206048 , -0.02957831, ...,  0.02590983,\n",
       "          0.00895107,  0.00757344],\n",
       "        [-0.01240411,  0.02060894, -0.02959112, ...,  0.02591   ,\n",
       "          0.00895775,  0.00755713]]], dtype=float32)>"
      ]
     },
     "execution_count": 383,
     "metadata": {},
     "output_type": "execute_result"
    }
   ],
   "source": [
    "m_test=test()\n",
    "m_test(output_seq)"
   ]
  },
  {
   "cell_type": "code",
   "execution_count": 476,
   "id": "36586b3c-8746-4baf-b5c9-af0becc21b1a",
   "metadata": {},
   "outputs": [],
   "source": [
    "class MultiHeadAttention(tf.keras.layers.Layer):\n",
    "    def __init__(self,dim=256,nb_head=8,**kwargs):\n",
    "        self.head_dim=256//8\n",
    "        self.nb_head=8\n",
    "        super(**kwargs).__init__()\n",
    "        \n",
    "    def build(self,input_shape):\n",
    "        self.query_layer=tf.keras.layers.Dense(256)\n",
    "        self.value_layer=tf.keras.layers.Dense(256)\n",
    "        self.key_layer=tf.keras.layers.Dense(256)\n",
    "        self.out_proj=tf.keras.layers.Dense(256)\n",
    "        super().build(input_shape)\n",
    "\n",
    "    def mask_softmax(self,x,mask):\n",
    "        \n",
    "        x_expe=tf.math.exp(x)\n",
    "        x_expe_masked=x_expe*mask\n",
    "        x_expe_sum=tf.reduce_sum(x_expe_masked,axis=-1)\n",
    "        x_expe_sum=tf.expand_dims(x_expe_sum,axis=-1)\n",
    "        softmax=x_expe_masked/x_expe_sum\n",
    "        return softmax\n",
    "        \n",
    "\n",
    "    def call(self,x,mask=None):\n",
    "        in_query,in_key,in_value=x\n",
    "        Q=self.query_layer(in_query)\n",
    "        K=self.key_layer(in_key)\n",
    "        V=self.value_layer(in_value)\n",
    "\n",
    "        batch_size=tf.shape(Q)[0]\n",
    "        seq_len=tf.shape(Q)[1]\n",
    "        Q=tf.reshape(Q,[batch_size,seq_len,self.nb_head,self.head_dim])\n",
    "        K=tf.reshape(K,[batch_size,seq_len,self.nb_head,self.head_dim])\n",
    "        V=tf.reshape(V,[batch_size,seq_len,self.nb_head,self.head_dim])\n",
    "        \n",
    "\n",
    "        Q=tf.transpose(Q,[0,2,1,3])\n",
    "        K=tf.transpose(K,[0,2,1,3])\n",
    "        V=tf.transpose(V,[0,2,1,3])\n",
    "        \n",
    "\n",
    "        Q=tf.reshape(Q,[batch_size,self.nb_head,seq_len,self.head_dim])\n",
    "        K=tf.reshape(K,[batch_size,self.nb_head,seq_len,self.head_dim])\n",
    "        V=tf.reshape(V,[batch_size,self.nb_head,seq_len,self.head_dim])\n",
    "\n",
    "        QK=tf.matmul(Q,K,transpose_b=True)\n",
    "        QK=QK/tf.math.sqrt(256.)\n",
    "        if mask is  None:\n",
    "           print(\"mask is nicht none\")\n",
    "           QK=QK*mask\n",
    "           softmax_QK=self.mask_softmax(QK,mask)\n",
    "        else:   \n",
    "            print(\"maskist none \")\n",
    "            softmax_QK=tf.nn.softmax(QK,axis=-1)\n",
    "        attention=tf.matmul(softmax_QK,V)\n",
    "       \n",
    " \n",
    "        #attention=tf.reshape(attention,[batch_size,self.nb_head,seq_len,self.head_dim])\n",
    "        attention=tf.transpose(attention,[0,2,1,3])\n",
    "        attention=tf.reshape(attention,[batch_size,seq_len,self.nb_head*self.head_dim])\n",
    "        out_attention=self.out_proj(attention)\n",
    "        return out_attention\n",
    "        \n",
    "def test():\n",
    "    layer_input=tf.keras.Input(shape=(5,))\n",
    "    embedding=EmbeddingLayer(nb_token=5)(layer_input)\n",
    "    mask=tf.sequence_mask(tf.range(5)+1,5)\n",
    "    mask=tf.cast(mask,tf.float32)\n",
    "    mask=tf.expand_dims(mask,axis=0)\n",
    "    print(mask)\n",
    "    multi_attention=MultiHeadAttention()((embedding,embedding,embedding),mask=mask)\n",
    "    model=tf.keras.Model(layer_input,multi_attention)\n",
    "    model.summary()\n",
    "    return model                "
   ]
  },
  {
   "cell_type": "code",
   "execution_count": 477,
   "id": "8e158ead-c3a5-4d1d-a946-e7b2a989728f",
   "metadata": {},
   "outputs": [
    {
     "name": "stdout",
     "output_type": "stream",
     "text": [
      "tf.Tensor(\n",
      "[[[1. 0. 0. 0. 0.]\n",
      "  [1. 1. 0. 0. 0.]\n",
      "  [1. 1. 1. 0. 0.]\n",
      "  [1. 1. 1. 1. 0.]\n",
      "  [1. 1. 1. 1. 1.]]], shape=(1, 5, 5), dtype=float32)\n",
      "maskist none \n"
     ]
    },
    {
     "data": {
      "text/html": [
       "<pre style=\"white-space:pre;overflow-x:auto;line-height:normal;font-family:Menlo,'DejaVu Sans Mono',consolas,'Courier New',monospace\"><span style=\"font-weight: bold\">Model: \"functional_95\"</span>\n",
       "</pre>\n"
      ],
      "text/plain": [
       "\u001b[1mModel: \"functional_95\"\u001b[0m\n"
      ]
     },
     "metadata": {},
     "output_type": "display_data"
    },
    {
     "data": {
      "text/html": [
       "<pre style=\"white-space:pre;overflow-x:auto;line-height:normal;font-family:Menlo,'DejaVu Sans Mono',consolas,'Courier New',monospace\">┏━━━━━━━━━━━━━━━━━━━━━┳━━━━━━━━━━━━━━━━━━━┳━━━━━━━━━━━━┳━━━━━━━━━━━━━━━━━━━┓\n",
       "┃<span style=\"font-weight: bold\"> Layer (type)        </span>┃<span style=\"font-weight: bold\"> Output Shape      </span>┃<span style=\"font-weight: bold\">    Param # </span>┃<span style=\"font-weight: bold\"> Connected to      </span>┃\n",
       "┡━━━━━━━━━━━━━━━━━━━━━╇━━━━━━━━━━━━━━━━━━━╇━━━━━━━━━━━━╇━━━━━━━━━━━━━━━━━━━┩\n",
       "│ input_layer_189     │ (<span style=\"color: #00d7ff; text-decoration-color: #00d7ff\">None</span>, <span style=\"color: #00af00; text-decoration-color: #00af00\">5</span>)         │          <span style=\"color: #00af00; text-decoration-color: #00af00\">0</span> │ -                 │\n",
       "│ (<span style=\"color: #0087ff; text-decoration-color: #0087ff\">InputLayer</span>)        │                   │            │                   │\n",
       "├─────────────────────┼───────────────────┼────────────┼───────────────────┤\n",
       "│ embedding_layer_183 │ (<span style=\"color: #00d7ff; text-decoration-color: #00d7ff\">None</span>, <span style=\"color: #00af00; text-decoration-color: #00af00\">5</span>, <span style=\"color: #00af00; text-decoration-color: #00af00\">256</span>)    │      <span style=\"color: #00af00; text-decoration-color: #00af00\">1,280</span> │ input_layer_189[<span style=\"color: #00af00; text-decoration-color: #00af00\">…</span> │\n",
       "│ (<span style=\"color: #0087ff; text-decoration-color: #0087ff\">EmbeddingLayer</span>)    │                   │            │                   │\n",
       "├─────────────────────┼───────────────────┼────────────┼───────────────────┤\n",
       "│ multi_head_attenti… │ (<span style=\"color: #00d7ff; text-decoration-color: #00d7ff\">None</span>, <span style=\"color: #00af00; text-decoration-color: #00af00\">5</span>, <span style=\"color: #00af00; text-decoration-color: #00af00\">256</span>)    │    <span style=\"color: #00af00; text-decoration-color: #00af00\">263,168</span> │ embedding_layer_… │\n",
       "│ (<span style=\"color: #0087ff; text-decoration-color: #0087ff\">MultiHeadAttentio…</span> │                   │            │ embedding_layer_… │\n",
       "│                     │                   │            │ embedding_layer_… │\n",
       "└─────────────────────┴───────────────────┴────────────┴───────────────────┘\n",
       "</pre>\n"
      ],
      "text/plain": [
       "┏━━━━━━━━━━━━━━━━━━━━━┳━━━━━━━━━━━━━━━━━━━┳━━━━━━━━━━━━┳━━━━━━━━━━━━━━━━━━━┓\n",
       "┃\u001b[1m \u001b[0m\u001b[1mLayer (type)       \u001b[0m\u001b[1m \u001b[0m┃\u001b[1m \u001b[0m\u001b[1mOutput Shape     \u001b[0m\u001b[1m \u001b[0m┃\u001b[1m \u001b[0m\u001b[1m   Param #\u001b[0m\u001b[1m \u001b[0m┃\u001b[1m \u001b[0m\u001b[1mConnected to     \u001b[0m\u001b[1m \u001b[0m┃\n",
       "┡━━━━━━━━━━━━━━━━━━━━━╇━━━━━━━━━━━━━━━━━━━╇━━━━━━━━━━━━╇━━━━━━━━━━━━━━━━━━━┩\n",
       "│ input_layer_189     │ (\u001b[38;5;45mNone\u001b[0m, \u001b[38;5;34m5\u001b[0m)         │          \u001b[38;5;34m0\u001b[0m │ -                 │\n",
       "│ (\u001b[38;5;33mInputLayer\u001b[0m)        │                   │            │                   │\n",
       "├─────────────────────┼───────────────────┼────────────┼───────────────────┤\n",
       "│ embedding_layer_183 │ (\u001b[38;5;45mNone\u001b[0m, \u001b[38;5;34m5\u001b[0m, \u001b[38;5;34m256\u001b[0m)    │      \u001b[38;5;34m1,280\u001b[0m │ input_layer_189[\u001b[38;5;34m…\u001b[0m │\n",
       "│ (\u001b[38;5;33mEmbeddingLayer\u001b[0m)    │                   │            │                   │\n",
       "├─────────────────────┼───────────────────┼────────────┼───────────────────┤\n",
       "│ multi_head_attenti… │ (\u001b[38;5;45mNone\u001b[0m, \u001b[38;5;34m5\u001b[0m, \u001b[38;5;34m256\u001b[0m)    │    \u001b[38;5;34m263,168\u001b[0m │ embedding_layer_… │\n",
       "│ (\u001b[38;5;33mMultiHeadAttentio…\u001b[0m │                   │            │ embedding_layer_… │\n",
       "│                     │                   │            │ embedding_layer_… │\n",
       "└─────────────────────┴───────────────────┴────────────┴───────────────────┘\n"
      ]
     },
     "metadata": {},
     "output_type": "display_data"
    },
    {
     "data": {
      "text/html": [
       "<pre style=\"white-space:pre;overflow-x:auto;line-height:normal;font-family:Menlo,'DejaVu Sans Mono',consolas,'Courier New',monospace\"><span style=\"font-weight: bold\"> Total params: </span><span style=\"color: #00af00; text-decoration-color: #00af00\">264,448</span> (1.01 MB)\n",
       "</pre>\n"
      ],
      "text/plain": [
       "\u001b[1m Total params: \u001b[0m\u001b[38;5;34m264,448\u001b[0m (1.01 MB)\n"
      ]
     },
     "metadata": {},
     "output_type": "display_data"
    },
    {
     "data": {
      "text/html": [
       "<pre style=\"white-space:pre;overflow-x:auto;line-height:normal;font-family:Menlo,'DejaVu Sans Mono',consolas,'Courier New',monospace\"><span style=\"font-weight: bold\"> Trainable params: </span><span style=\"color: #00af00; text-decoration-color: #00af00\">264,448</span> (1.01 MB)\n",
       "</pre>\n"
      ],
      "text/plain": [
       "\u001b[1m Trainable params: \u001b[0m\u001b[38;5;34m264,448\u001b[0m (1.01 MB)\n"
      ]
     },
     "metadata": {},
     "output_type": "display_data"
    },
    {
     "data": {
      "text/html": [
       "<pre style=\"white-space:pre;overflow-x:auto;line-height:normal;font-family:Menlo,'DejaVu Sans Mono',consolas,'Courier New',monospace\"><span style=\"font-weight: bold\"> Non-trainable params: </span><span style=\"color: #00af00; text-decoration-color: #00af00\">0</span> (0.00 B)\n",
       "</pre>\n"
      ],
      "text/plain": [
       "\u001b[1m Non-trainable params: \u001b[0m\u001b[38;5;34m0\u001b[0m (0.00 B)\n"
      ]
     },
     "metadata": {},
     "output_type": "display_data"
    },
    {
     "name": "stdout",
     "output_type": "stream",
     "text": [
      "maskist none \n"
     ]
    },
    {
     "data": {
      "text/plain": [
       "<tf.Tensor: shape=(1, 5, 256), dtype=float32, numpy=\n",
       "array([[[ 0.01119382, -0.00286951,  0.0020979 , ...,  0.00541455,\n",
       "          0.00075622, -0.00443292],\n",
       "        [ 0.01119975, -0.00286778,  0.00209857, ...,  0.00540536,\n",
       "          0.00075633, -0.00442867],\n",
       "        [ 0.01119804, -0.0028688 ,  0.00209862, ...,  0.00541878,\n",
       "          0.00075786, -0.00442984],\n",
       "        [ 0.01120211, -0.00287401,  0.00209684, ...,  0.0054167 ,\n",
       "          0.00075027, -0.00442868],\n",
       "        [ 0.01119722, -0.00287137,  0.00209653, ...,  0.00540912,\n",
       "          0.00075458, -0.00443327]]], dtype=float32)>"
      ]
     },
     "execution_count": 477,
     "metadata": {},
     "output_type": "execute_result"
    }
   ],
   "source": [
    "m_test=test()\n",
    "m_test(output_seq)"
   ]
  },
  {
   "cell_type": "code",
   "execution_count": null,
   "id": "1687386f-a577-44f7-bc89-d0b149b6b716",
   "metadata": {},
   "outputs": [],
   "source": []
  },
  {
   "cell_type": "code",
   "execution_count": 478,
   "id": "dfebbd8c-0c01-4688-bc9c-901f16eec160",
   "metadata": {},
   "outputs": [],
   "source": [
    "class EncoderLayer(tf.keras.layers.Layer):\n",
    "    def __init__(self,**kwargs):\n",
    "        \n",
    "        super(**kwargs).__init__()\n",
    "        \n",
    "    def build(self,input_shape):\n",
    "        self.Multi_Head_Attention=MultiHeadAttention()\n",
    "        self.norm=tf.keras.layers.LayerNormalization()\n",
    "        self.dense_out=tf.keras.layers.Dense(256)\n",
    "        super().build(input_shape)\n",
    "\n",
    "    def call(self,x):\n",
    "        Attention=self.Multi_Head_Attention((x,x,x),mask=None)\n",
    "        post_attention=self.norm(Attention+x)\n",
    "        x=self.dense_out(post_attention)\n",
    "        enc_outpout=self.norm(x)\n",
    "        return enc_outpout\n",
    "def test():\n",
    "    layer_input=tf.keras.Input(shape=(5,))\n",
    "    embedding=EmbeddingLayer(nb_token=5)(layer_input)\n",
    "    encoder_output=EncoderLayer()(embedding)\n",
    "    model=tf.keras.Model(layer_input,encoder_output)\n",
    "    model.summary()\n",
    "    return model  "
   ]
  },
  {
   "cell_type": "code",
   "execution_count": null,
   "id": "8b73f8c7-4cbf-4f12-b5b7-b8bb65764b78",
   "metadata": {},
   "outputs": [],
   "source": [
    " "
   ]
  },
  {
   "cell_type": "code",
   "execution_count": null,
   "id": "975600b6-8fc5-4e3c-b604-f91d7caf0790",
   "metadata": {},
   "outputs": [],
   "source": []
  },
  {
   "cell_type": "code",
   "execution_count": 479,
   "id": "217c0610-1da0-4e56-924e-35f86845ca99",
   "metadata": {},
   "outputs": [
    {
     "name": "stdout",
     "output_type": "stream",
     "text": [
      "maskist none \n"
     ]
    },
    {
     "data": {
      "text/html": [
       "<pre style=\"white-space:pre;overflow-x:auto;line-height:normal;font-family:Menlo,'DejaVu Sans Mono',consolas,'Courier New',monospace\"><span style=\"font-weight: bold\">Model: \"functional_96\"</span>\n",
       "</pre>\n"
      ],
      "text/plain": [
       "\u001b[1mModel: \"functional_96\"\u001b[0m\n"
      ]
     },
     "metadata": {},
     "output_type": "display_data"
    },
    {
     "data": {
      "text/html": [
       "<pre style=\"white-space:pre;overflow-x:auto;line-height:normal;font-family:Menlo,'DejaVu Sans Mono',consolas,'Courier New',monospace\">┏━━━━━━━━━━━━━━━━━━━━━━━━━━━━━━━━━┳━━━━━━━━━━━━━━━━━━━━━━━━┳━━━━━━━━━━━━━━━┓\n",
       "┃<span style=\"font-weight: bold\"> Layer (type)                    </span>┃<span style=\"font-weight: bold\"> Output Shape           </span>┃<span style=\"font-weight: bold\">       Param # </span>┃\n",
       "┡━━━━━━━━━━━━━━━━━━━━━━━━━━━━━━━━━╇━━━━━━━━━━━━━━━━━━━━━━━━╇━━━━━━━━━━━━━━━┩\n",
       "│ input_layer_190 (<span style=\"color: #0087ff; text-decoration-color: #0087ff\">InputLayer</span>)    │ (<span style=\"color: #00d7ff; text-decoration-color: #00d7ff\">None</span>, <span style=\"color: #00af00; text-decoration-color: #00af00\">5</span>)              │             <span style=\"color: #00af00; text-decoration-color: #00af00\">0</span> │\n",
       "├─────────────────────────────────┼────────────────────────┼───────────────┤\n",
       "│ embedding_layer_184             │ (<span style=\"color: #00d7ff; text-decoration-color: #00d7ff\">None</span>, <span style=\"color: #00af00; text-decoration-color: #00af00\">5</span>, <span style=\"color: #00af00; text-decoration-color: #00af00\">256</span>)         │         <span style=\"color: #00af00; text-decoration-color: #00af00\">1,280</span> │\n",
       "│ (<span style=\"color: #0087ff; text-decoration-color: #0087ff\">EmbeddingLayer</span>)                │                        │               │\n",
       "├─────────────────────────────────┼────────────────────────┼───────────────┤\n",
       "│ encoder_layer_225               │ (<span style=\"color: #00d7ff; text-decoration-color: #00d7ff\">None</span>, <span style=\"color: #00af00; text-decoration-color: #00af00\">5</span>, <span style=\"color: #00af00; text-decoration-color: #00af00\">256</span>)         │       <span style=\"color: #00af00; text-decoration-color: #00af00\">329,472</span> │\n",
       "│ (<span style=\"color: #0087ff; text-decoration-color: #0087ff\">EncoderLayer</span>)                  │                        │               │\n",
       "└─────────────────────────────────┴────────────────────────┴───────────────┘\n",
       "</pre>\n"
      ],
      "text/plain": [
       "┏━━━━━━━━━━━━━━━━━━━━━━━━━━━━━━━━━┳━━━━━━━━━━━━━━━━━━━━━━━━┳━━━━━━━━━━━━━━━┓\n",
       "┃\u001b[1m \u001b[0m\u001b[1mLayer (type)                   \u001b[0m\u001b[1m \u001b[0m┃\u001b[1m \u001b[0m\u001b[1mOutput Shape          \u001b[0m\u001b[1m \u001b[0m┃\u001b[1m \u001b[0m\u001b[1m      Param #\u001b[0m\u001b[1m \u001b[0m┃\n",
       "┡━━━━━━━━━━━━━━━━━━━━━━━━━━━━━━━━━╇━━━━━━━━━━━━━━━━━━━━━━━━╇━━━━━━━━━━━━━━━┩\n",
       "│ input_layer_190 (\u001b[38;5;33mInputLayer\u001b[0m)    │ (\u001b[38;5;45mNone\u001b[0m, \u001b[38;5;34m5\u001b[0m)              │             \u001b[38;5;34m0\u001b[0m │\n",
       "├─────────────────────────────────┼────────────────────────┼───────────────┤\n",
       "│ embedding_layer_184             │ (\u001b[38;5;45mNone\u001b[0m, \u001b[38;5;34m5\u001b[0m, \u001b[38;5;34m256\u001b[0m)         │         \u001b[38;5;34m1,280\u001b[0m │\n",
       "│ (\u001b[38;5;33mEmbeddingLayer\u001b[0m)                │                        │               │\n",
       "├─────────────────────────────────┼────────────────────────┼───────────────┤\n",
       "│ encoder_layer_225               │ (\u001b[38;5;45mNone\u001b[0m, \u001b[38;5;34m5\u001b[0m, \u001b[38;5;34m256\u001b[0m)         │       \u001b[38;5;34m329,472\u001b[0m │\n",
       "│ (\u001b[38;5;33mEncoderLayer\u001b[0m)                  │                        │               │\n",
       "└─────────────────────────────────┴────────────────────────┴───────────────┘\n"
      ]
     },
     "metadata": {},
     "output_type": "display_data"
    },
    {
     "data": {
      "text/html": [
       "<pre style=\"white-space:pre;overflow-x:auto;line-height:normal;font-family:Menlo,'DejaVu Sans Mono',consolas,'Courier New',monospace\"><span style=\"font-weight: bold\"> Total params: </span><span style=\"color: #00af00; text-decoration-color: #00af00\">330,752</span> (1.26 MB)\n",
       "</pre>\n"
      ],
      "text/plain": [
       "\u001b[1m Total params: \u001b[0m\u001b[38;5;34m330,752\u001b[0m (1.26 MB)\n"
      ]
     },
     "metadata": {},
     "output_type": "display_data"
    },
    {
     "data": {
      "text/html": [
       "<pre style=\"white-space:pre;overflow-x:auto;line-height:normal;font-family:Menlo,'DejaVu Sans Mono',consolas,'Courier New',monospace\"><span style=\"font-weight: bold\"> Trainable params: </span><span style=\"color: #00af00; text-decoration-color: #00af00\">330,752</span> (1.26 MB)\n",
       "</pre>\n"
      ],
      "text/plain": [
       "\u001b[1m Trainable params: \u001b[0m\u001b[38;5;34m330,752\u001b[0m (1.26 MB)\n"
      ]
     },
     "metadata": {},
     "output_type": "display_data"
    },
    {
     "data": {
      "text/html": [
       "<pre style=\"white-space:pre;overflow-x:auto;line-height:normal;font-family:Menlo,'DejaVu Sans Mono',consolas,'Courier New',monospace\"><span style=\"font-weight: bold\"> Non-trainable params: </span><span style=\"color: #00af00; text-decoration-color: #00af00\">0</span> (0.00 B)\n",
       "</pre>\n"
      ],
      "text/plain": [
       "\u001b[1m Non-trainable params: \u001b[0m\u001b[38;5;34m0\u001b[0m (0.00 B)\n"
      ]
     },
     "metadata": {},
     "output_type": "display_data"
    },
    {
     "name": "stdout",
     "output_type": "stream",
     "text": [
      "maskist none \n"
     ]
    },
    {
     "data": {
      "text/plain": [
       "<tf.Tensor: shape=(1, 5, 256), dtype=float32, numpy=\n",
       "array([[[-0.9167078 ,  0.6062617 , -0.40561503, ..., -0.05410853,\n",
       "          0.18980093, -0.61908853],\n",
       "        [-0.7759391 , -0.1575514 ,  0.7830168 , ...,  0.29896405,\n",
       "         -0.7507426 , -0.13852909],\n",
       "        [-0.7289455 , -1.1257945 , -1.8043578 , ...,  1.4883896 ,\n",
       "          0.63597053, -0.80819106],\n",
       "        [-0.6418523 ,  1.2017398 , -0.3853525 , ...,  1.7340305 ,\n",
       "         -0.29089862,  1.6064694 ],\n",
       "        [-0.64185834, -0.37207463,  1.1540389 , ..., -0.9990005 ,\n",
       "         -2.979611  ,  0.697902  ]]], dtype=float32)>"
      ]
     },
     "execution_count": 479,
     "metadata": {},
     "output_type": "execute_result"
    }
   ],
   "source": [
    "m_test=test()\n",
    "m_test(input_seq)"
   ]
  },
  {
   "cell_type": "code",
   "execution_count": 480,
   "id": "3820dbf3-f19c-47e0-b094-8e2a21718793",
   "metadata": {},
   "outputs": [],
   "source": [
    "\n",
    "class Encoder(tf.keras.layers.Layer):\n",
    "    def __init__(self,nb_encoder,**kwargs):\n",
    "        self.nb_encoder=nb_encoder\n",
    "        super(**kwargs).__init__()\n",
    "        \n",
    "    def build(self,input_shape):\n",
    "        self.encoder_layer=[]\n",
    "        for nb in range(self.nb_encoder):\n",
    "            self.encoder_layer.append(EncoderLayer())\n",
    "        super().build(input_shape)\n",
    "    def call(self,x):\n",
    "        for encoder in self.encoder_layer:\n",
    "            x=encoder(x)\n",
    "        \n",
    "        return x\n",
    "def test():\n",
    "    layer_input=tf.keras.Input(shape=(5,))\n",
    "    embedding=EmbeddingLayer(nb_token=5)(layer_input)\n",
    "    encoder_output=Encoder(nb_encoder=6)(embedding)\n",
    "    model=tf.keras.Model(layer_input,encoder_output)\n",
    "    model.summary()\n",
    "    return model  "
   ]
  },
  {
   "cell_type": "code",
   "execution_count": 481,
   "id": "f5d2f6b0-7280-4d2b-97b8-a4d1f5333ece",
   "metadata": {},
   "outputs": [
    {
     "name": "stdout",
     "output_type": "stream",
     "text": [
      "maskist none \n",
      "maskist none \n",
      "maskist none \n",
      "maskist none \n",
      "maskist none \n",
      "maskist none \n"
     ]
    },
    {
     "data": {
      "text/html": [
       "<pre style=\"white-space:pre;overflow-x:auto;line-height:normal;font-family:Menlo,'DejaVu Sans Mono',consolas,'Courier New',monospace\"><span style=\"font-weight: bold\">Model: \"functional_97\"</span>\n",
       "</pre>\n"
      ],
      "text/plain": [
       "\u001b[1mModel: \"functional_97\"\u001b[0m\n"
      ]
     },
     "metadata": {},
     "output_type": "display_data"
    },
    {
     "data": {
      "text/html": [
       "<pre style=\"white-space:pre;overflow-x:auto;line-height:normal;font-family:Menlo,'DejaVu Sans Mono',consolas,'Courier New',monospace\">┏━━━━━━━━━━━━━━━━━━━━━━━━━━━━━━━━━┳━━━━━━━━━━━━━━━━━━━━━━━━┳━━━━━━━━━━━━━━━┓\n",
       "┃<span style=\"font-weight: bold\"> Layer (type)                    </span>┃<span style=\"font-weight: bold\"> Output Shape           </span>┃<span style=\"font-weight: bold\">       Param # </span>┃\n",
       "┡━━━━━━━━━━━━━━━━━━━━━━━━━━━━━━━━━╇━━━━━━━━━━━━━━━━━━━━━━━━╇━━━━━━━━━━━━━━━┩\n",
       "│ input_layer_191 (<span style=\"color: #0087ff; text-decoration-color: #0087ff\">InputLayer</span>)    │ (<span style=\"color: #00d7ff; text-decoration-color: #00d7ff\">None</span>, <span style=\"color: #00af00; text-decoration-color: #00af00\">5</span>)              │             <span style=\"color: #00af00; text-decoration-color: #00af00\">0</span> │\n",
       "├─────────────────────────────────┼────────────────────────┼───────────────┤\n",
       "│ embedding_layer_185             │ (<span style=\"color: #00d7ff; text-decoration-color: #00d7ff\">None</span>, <span style=\"color: #00af00; text-decoration-color: #00af00\">5</span>, <span style=\"color: #00af00; text-decoration-color: #00af00\">256</span>)         │         <span style=\"color: #00af00; text-decoration-color: #00af00\">1,280</span> │\n",
       "│ (<span style=\"color: #0087ff; text-decoration-color: #0087ff\">EmbeddingLayer</span>)                │                        │               │\n",
       "├─────────────────────────────────┼────────────────────────┼───────────────┤\n",
       "│ encoder_32 (<span style=\"color: #0087ff; text-decoration-color: #0087ff\">Encoder</span>)            │ (<span style=\"color: #00d7ff; text-decoration-color: #00d7ff\">None</span>, <span style=\"color: #00af00; text-decoration-color: #00af00\">5</span>, <span style=\"color: #00af00; text-decoration-color: #00af00\">256</span>)         │     <span style=\"color: #00af00; text-decoration-color: #00af00\">1,976,832</span> │\n",
       "└─────────────────────────────────┴────────────────────────┴───────────────┘\n",
       "</pre>\n"
      ],
      "text/plain": [
       "┏━━━━━━━━━━━━━━━━━━━━━━━━━━━━━━━━━┳━━━━━━━━━━━━━━━━━━━━━━━━┳━━━━━━━━━━━━━━━┓\n",
       "┃\u001b[1m \u001b[0m\u001b[1mLayer (type)                   \u001b[0m\u001b[1m \u001b[0m┃\u001b[1m \u001b[0m\u001b[1mOutput Shape          \u001b[0m\u001b[1m \u001b[0m┃\u001b[1m \u001b[0m\u001b[1m      Param #\u001b[0m\u001b[1m \u001b[0m┃\n",
       "┡━━━━━━━━━━━━━━━━━━━━━━━━━━━━━━━━━╇━━━━━━━━━━━━━━━━━━━━━━━━╇━━━━━━━━━━━━━━━┩\n",
       "│ input_layer_191 (\u001b[38;5;33mInputLayer\u001b[0m)    │ (\u001b[38;5;45mNone\u001b[0m, \u001b[38;5;34m5\u001b[0m)              │             \u001b[38;5;34m0\u001b[0m │\n",
       "├─────────────────────────────────┼────────────────────────┼───────────────┤\n",
       "│ embedding_layer_185             │ (\u001b[38;5;45mNone\u001b[0m, \u001b[38;5;34m5\u001b[0m, \u001b[38;5;34m256\u001b[0m)         │         \u001b[38;5;34m1,280\u001b[0m │\n",
       "│ (\u001b[38;5;33mEmbeddingLayer\u001b[0m)                │                        │               │\n",
       "├─────────────────────────────────┼────────────────────────┼───────────────┤\n",
       "│ encoder_32 (\u001b[38;5;33mEncoder\u001b[0m)            │ (\u001b[38;5;45mNone\u001b[0m, \u001b[38;5;34m5\u001b[0m, \u001b[38;5;34m256\u001b[0m)         │     \u001b[38;5;34m1,976,832\u001b[0m │\n",
       "└─────────────────────────────────┴────────────────────────┴───────────────┘\n"
      ]
     },
     "metadata": {},
     "output_type": "display_data"
    },
    {
     "data": {
      "text/html": [
       "<pre style=\"white-space:pre;overflow-x:auto;line-height:normal;font-family:Menlo,'DejaVu Sans Mono',consolas,'Courier New',monospace\"><span style=\"font-weight: bold\"> Total params: </span><span style=\"color: #00af00; text-decoration-color: #00af00\">1,978,112</span> (7.55 MB)\n",
       "</pre>\n"
      ],
      "text/plain": [
       "\u001b[1m Total params: \u001b[0m\u001b[38;5;34m1,978,112\u001b[0m (7.55 MB)\n"
      ]
     },
     "metadata": {},
     "output_type": "display_data"
    },
    {
     "data": {
      "text/html": [
       "<pre style=\"white-space:pre;overflow-x:auto;line-height:normal;font-family:Menlo,'DejaVu Sans Mono',consolas,'Courier New',monospace\"><span style=\"font-weight: bold\"> Trainable params: </span><span style=\"color: #00af00; text-decoration-color: #00af00\">1,978,112</span> (7.55 MB)\n",
       "</pre>\n"
      ],
      "text/plain": [
       "\u001b[1m Trainable params: \u001b[0m\u001b[38;5;34m1,978,112\u001b[0m (7.55 MB)\n"
      ]
     },
     "metadata": {},
     "output_type": "display_data"
    },
    {
     "data": {
      "text/html": [
       "<pre style=\"white-space:pre;overflow-x:auto;line-height:normal;font-family:Menlo,'DejaVu Sans Mono',consolas,'Courier New',monospace\"><span style=\"font-weight: bold\"> Non-trainable params: </span><span style=\"color: #00af00; text-decoration-color: #00af00\">0</span> (0.00 B)\n",
       "</pre>\n"
      ],
      "text/plain": [
       "\u001b[1m Non-trainable params: \u001b[0m\u001b[38;5;34m0\u001b[0m (0.00 B)\n"
      ]
     },
     "metadata": {},
     "output_type": "display_data"
    },
    {
     "name": "stdout",
     "output_type": "stream",
     "text": [
      "maskist none \n",
      "maskist none \n",
      "maskist none \n",
      "maskist none \n",
      "maskist none \n",
      "maskist none \n"
     ]
    },
    {
     "data": {
      "text/plain": [
       "<tf.Tensor: shape=(1, 5, 256), dtype=float32, numpy=\n",
       "array([[[ 0.82232475,  0.07334855,  1.2059599 , ...,  1.6438099 ,\n",
       "         -1.3942479 ,  0.5748099 ],\n",
       "        [ 0.7830262 ,  0.250861  ,  1.329698  , ...,  0.7860988 ,\n",
       "         -1.2463847 ,  0.85204244],\n",
       "        [ 0.40288574,  0.0809675 ,  0.9678191 , ...,  1.0446928 ,\n",
       "         -1.138141  ,  0.8597219 ],\n",
       "        [ 0.5745945 , -0.4108683 ,  1.1179868 , ...,  1.304013  ,\n",
       "         -1.5553342 ,  0.32353407],\n",
       "        [ 0.4951214 , -0.2518857 ,  1.1717849 , ...,  1.3070445 ,\n",
       "         -1.408482  ,  0.4200267 ]]], dtype=float32)>"
      ]
     },
     "execution_count": 481,
     "metadata": {},
     "output_type": "execute_result"
    }
   ],
   "source": [
    "m_test=test()\n",
    "m_test(output_seq)"
   ]
  },
  {
   "cell_type": "code",
   "execution_count": 563,
   "id": "da17283d-c15b-4d03-a0a0-734629211dcf",
   "metadata": {},
   "outputs": [],
   "source": [
    "class DecoderLayer(tf.keras.layers.Layer):\n",
    "    def __init__(self,**kwargs):\n",
    "        \n",
    "        super(**kwargs).__init__()\n",
    "        \n",
    "    def build(self,input_shape):\n",
    "        self.Multi_Head_Attention=MultiHeadAttention()\n",
    "        self.Multi_Head_croise_Attention=MultiHeadAttention()\n",
    "        self.norm=tf.keras.layers.LayerNormalization()\n",
    "        self.proj_output=tf.keras.layers.Dense(256)\n",
    "        \n",
    "        super().build(input_shape)\n",
    "\n",
    "    def call(self,x):\n",
    "        decoder_embedding,encoder_output,mask=x\n",
    "        self_attention=self.Multi_Head_Attention((decoder_embedding,decoder_embedding,decoder_embedding),mask)\n",
    "        post_self_attention=self.norm(decoder_embedding+self_attention)\n",
    "        croise_attention=self.Multi_Head_croise_Attention((post_self_attention,encoder_output,encoder_output))\n",
    "        proj_out=self.proj_output(croise_attention)\n",
    "        dec_output=self.norm(proj_out+croise_attention)\n",
    "        return dec_output\n",
    "def test():\n",
    "    layer_input=tf.keras.Input(shape=(5,))\n",
    "    embedding=EmbeddingLayer(nb_token=5)(layer_input)\n",
    "    encoder_output=EncoderLayer()(embedding)\n",
    "    model=tf.keras.Model(layer_input,encoder_output)\n",
    "    model.summary()\n",
    "    return model "
   ]
  },
  {
   "cell_type": "code",
   "execution_count": null,
   "id": "1dcd702a-cd9e-4035-bae4-34837a020786",
   "metadata": {},
   "outputs": [],
   "source": []
  },
  {
   "cell_type": "code",
   "execution_count": 574,
   "id": "06eb0fe4-45a8-4ba8-9893-e7a79622e83a",
   "metadata": {},
   "outputs": [],
   "source": [
    "class Decoder(tf.keras.layers.Layer):\n",
    "    def __init__(self,nb_decoder,**kwargs):\n",
    "        self.nb_decoder=nb_decoder\n",
    "        super(**kwargs).__init__()\n",
    "        \n",
    "    def build(self,input_shape):\n",
    "        self.decoder_layer=[]\n",
    "        for nb in range(self.nb_decoder):\n",
    "            self.decoder_layer.append(DecoderLayer())\n",
    "        super().build(input_shape)\n",
    "    def call(self,x):\n",
    "        decoder_embedding,encoder_output,mask=x\n",
    "        dec_output=encoder_output\n",
    "        for decoder in self.decoder_layer:\n",
    "            dec_output= DecoderLayer()((decoder_embedding,dec_output,mask))\n",
    "        \n",
    "        return dec_output\n",
    "def test(output_voc):\n",
    "    input_token=tf.keras.Input(shape=(5,))\n",
    "    output_token=tf.keras.Input(shape=(5,))\n",
    "    \n",
    "    encoder_pos=EmbeddingLayer(nb_token=5)(tf.range(5))\n",
    "    decoder_pos=EmbeddingLayer(nb_token=5)(tf.range(5))\n",
    "    \n",
    "    encoder_embedding=EmbeddingLayer(nb_token=5)(input_token)\n",
    "    decoder_embedding=EmbeddingLayer(nb_token=5)(output_token)\n",
    "\n",
    "    encoder_embedding=encoder_embedding+encoder_pos\n",
    "    decoder_embedding=encoder_embedding+decoder_pos\n",
    "    \n",
    "    encoder_output=Encoder(nb_encoder=6)(encoder_embedding)\n",
    "    \n",
    "    mask=tf.sequence_mask(tf.range(5)+1,5)\n",
    "    mask=tf.cast(mask,tf.float32)\n",
    "    mask=tf.expand_dims(mask,axis=0)\n",
    "    \n",
    "    decoder_output=Decoder(nb_decoder=5)((decoder_embedding,encoder_output,mask))\n",
    "    \n",
    "    out=tf.keras.layers.Dense(len(output_voc))( decoder_output)\n",
    "    model=tf.keras.Model([input_token,output_token],encoder_output)\n",
    "    model.summary()\n",
    "    return model"
   ]
  },
  {
   "cell_type": "code",
   "execution_count": 575,
   "id": "daa531ba-4ee5-4b3a-bebf-7a14368b27d1",
   "metadata": {},
   "outputs": [
    {
     "data": {
      "text/plain": [
       "<tf.Tensor: shape=(1, 5), dtype=float32, numpy=array([[0., 1., 2., 3., 4.]], dtype=float32)>"
      ]
     },
     "execution_count": 575,
     "metadata": {},
     "output_type": "execute_result"
    }
   ],
   "source": [
    "input_seq"
   ]
  },
  {
   "cell_type": "code",
   "execution_count": 576,
   "id": "ea3b0e53-d0e6-4a53-8b8c-287af8d59310",
   "metadata": {},
   "outputs": [
    {
     "data": {
      "text/plain": [
       "<Functional name=functional_101, built=True>"
      ]
     },
     "execution_count": 576,
     "metadata": {},
     "output_type": "execute_result"
    }
   ],
   "source": [
    "input_seq = tf.convert_to_tensor(input_seq, dtype=tf.float32)\n",
    "output_seq = tf.convert_to_tensor(output_seq, dtype=tf.float32)\n",
    "m_test"
   ]
  },
  {
   "cell_type": "code",
   "execution_count": 577,
   "id": "57225c0e-59ca-4049-888e-84572fa8248a",
   "metadata": {},
   "outputs": [
    {
     "name": "stdout",
     "output_type": "stream",
     "text": [
      "maskist none \n",
      "maskist none \n",
      "maskist none \n",
      "maskist none \n",
      "maskist none \n",
      "maskist none \n",
      "maskist none \n",
      "maskist none \n",
      "maskist none \n",
      "maskist none \n",
      "maskist none \n",
      "maskist none \n",
      "maskist none \n",
      "maskist none \n",
      "maskist none \n",
      "maskist none \n"
     ]
    },
    {
     "data": {
      "text/html": [
       "<pre style=\"white-space:pre;overflow-x:auto;line-height:normal;font-family:Menlo,'DejaVu Sans Mono',consolas,'Courier New',monospace\"><span style=\"font-weight: bold\">Model: \"functional_102\"</span>\n",
       "</pre>\n"
      ],
      "text/plain": [
       "\u001b[1mModel: \"functional_102\"\u001b[0m\n"
      ]
     },
     "metadata": {},
     "output_type": "display_data"
    },
    {
     "data": {
      "text/html": [
       "<pre style=\"white-space:pre;overflow-x:auto;line-height:normal;font-family:Menlo,'DejaVu Sans Mono',consolas,'Courier New',monospace\">┏━━━━━━━━━━━━━━━━━━━━━┳━━━━━━━━━━━━━━━━━━━┳━━━━━━━━━━━━┳━━━━━━━━━━━━━━━━━━━┓\n",
       "┃<span style=\"font-weight: bold\"> Layer (type)        </span>┃<span style=\"font-weight: bold\"> Output Shape      </span>┃<span style=\"font-weight: bold\">    Param # </span>┃<span style=\"font-weight: bold\"> Connected to      </span>┃\n",
       "┡━━━━━━━━━━━━━━━━━━━━━╇━━━━━━━━━━━━━━━━━━━╇━━━━━━━━━━━━╇━━━━━━━━━━━━━━━━━━━┩\n",
       "│ input_layer_218     │ (<span style=\"color: #00d7ff; text-decoration-color: #00d7ff\">None</span>, <span style=\"color: #00af00; text-decoration-color: #00af00\">5</span>)         │          <span style=\"color: #00af00; text-decoration-color: #00af00\">0</span> │ -                 │\n",
       "│ (<span style=\"color: #0087ff; text-decoration-color: #0087ff\">InputLayer</span>)        │                   │            │                   │\n",
       "├─────────────────────┼───────────────────┼────────────┼───────────────────┤\n",
       "│ embedding_layer_219 │ (<span style=\"color: #00d7ff; text-decoration-color: #00d7ff\">None</span>, <span style=\"color: #00af00; text-decoration-color: #00af00\">5</span>, <span style=\"color: #00af00; text-decoration-color: #00af00\">256</span>)    │      <span style=\"color: #00af00; text-decoration-color: #00af00\">1,280</span> │ input_layer_218[<span style=\"color: #00af00; text-decoration-color: #00af00\">…</span> │\n",
       "│ (<span style=\"color: #0087ff; text-decoration-color: #0087ff\">EmbeddingLayer</span>)    │                   │            │                   │\n",
       "├─────────────────────┼───────────────────┼────────────┼───────────────────┤\n",
       "│ add_6 (<span style=\"color: #0087ff; text-decoration-color: #0087ff\">Add</span>)         │ (<span style=\"color: #00d7ff; text-decoration-color: #00d7ff\">None</span>, <span style=\"color: #00af00; text-decoration-color: #00af00\">5</span>, <span style=\"color: #00af00; text-decoration-color: #00af00\">256</span>)    │          <span style=\"color: #00af00; text-decoration-color: #00af00\">0</span> │ embedding_layer_… │\n",
       "├─────────────────────┼───────────────────┼────────────┼───────────────────┤\n",
       "│ input_layer_219     │ (<span style=\"color: #00d7ff; text-decoration-color: #00d7ff\">None</span>, <span style=\"color: #00af00; text-decoration-color: #00af00\">5</span>)         │          <span style=\"color: #00af00; text-decoration-color: #00af00\">0</span> │ -                 │\n",
       "│ (<span style=\"color: #0087ff; text-decoration-color: #0087ff\">InputLayer</span>)        │                   │            │                   │\n",
       "├─────────────────────┼───────────────────┼────────────┼───────────────────┤\n",
       "│ encoder_45          │ (<span style=\"color: #00d7ff; text-decoration-color: #00d7ff\">None</span>, <span style=\"color: #00af00; text-decoration-color: #00af00\">5</span>, <span style=\"color: #00af00; text-decoration-color: #00af00\">256</span>)    │  <span style=\"color: #00af00; text-decoration-color: #00af00\">1,976,832</span> │ add_6[<span style=\"color: #00af00; text-decoration-color: #00af00\">0</span>][<span style=\"color: #00af00; text-decoration-color: #00af00\">0</span>]       │\n",
       "│ (<span style=\"color: #0087ff; text-decoration-color: #0087ff\">Encoder</span>)           │                   │            │                   │\n",
       "└─────────────────────┴───────────────────┴────────────┴───────────────────┘\n",
       "</pre>\n"
      ],
      "text/plain": [
       "┏━━━━━━━━━━━━━━━━━━━━━┳━━━━━━━━━━━━━━━━━━━┳━━━━━━━━━━━━┳━━━━━━━━━━━━━━━━━━━┓\n",
       "┃\u001b[1m \u001b[0m\u001b[1mLayer (type)       \u001b[0m\u001b[1m \u001b[0m┃\u001b[1m \u001b[0m\u001b[1mOutput Shape     \u001b[0m\u001b[1m \u001b[0m┃\u001b[1m \u001b[0m\u001b[1m   Param #\u001b[0m\u001b[1m \u001b[0m┃\u001b[1m \u001b[0m\u001b[1mConnected to     \u001b[0m\u001b[1m \u001b[0m┃\n",
       "┡━━━━━━━━━━━━━━━━━━━━━╇━━━━━━━━━━━━━━━━━━━╇━━━━━━━━━━━━╇━━━━━━━━━━━━━━━━━━━┩\n",
       "│ input_layer_218     │ (\u001b[38;5;45mNone\u001b[0m, \u001b[38;5;34m5\u001b[0m)         │          \u001b[38;5;34m0\u001b[0m │ -                 │\n",
       "│ (\u001b[38;5;33mInputLayer\u001b[0m)        │                   │            │                   │\n",
       "├─────────────────────┼───────────────────┼────────────┼───────────────────┤\n",
       "│ embedding_layer_219 │ (\u001b[38;5;45mNone\u001b[0m, \u001b[38;5;34m5\u001b[0m, \u001b[38;5;34m256\u001b[0m)    │      \u001b[38;5;34m1,280\u001b[0m │ input_layer_218[\u001b[38;5;34m…\u001b[0m │\n",
       "│ (\u001b[38;5;33mEmbeddingLayer\u001b[0m)    │                   │            │                   │\n",
       "├─────────────────────┼───────────────────┼────────────┼───────────────────┤\n",
       "│ add_6 (\u001b[38;5;33mAdd\u001b[0m)         │ (\u001b[38;5;45mNone\u001b[0m, \u001b[38;5;34m5\u001b[0m, \u001b[38;5;34m256\u001b[0m)    │          \u001b[38;5;34m0\u001b[0m │ embedding_layer_… │\n",
       "├─────────────────────┼───────────────────┼────────────┼───────────────────┤\n",
       "│ input_layer_219     │ (\u001b[38;5;45mNone\u001b[0m, \u001b[38;5;34m5\u001b[0m)         │          \u001b[38;5;34m0\u001b[0m │ -                 │\n",
       "│ (\u001b[38;5;33mInputLayer\u001b[0m)        │                   │            │                   │\n",
       "├─────────────────────┼───────────────────┼────────────┼───────────────────┤\n",
       "│ encoder_45          │ (\u001b[38;5;45mNone\u001b[0m, \u001b[38;5;34m5\u001b[0m, \u001b[38;5;34m256\u001b[0m)    │  \u001b[38;5;34m1,976,832\u001b[0m │ add_6[\u001b[38;5;34m0\u001b[0m][\u001b[38;5;34m0\u001b[0m]       │\n",
       "│ (\u001b[38;5;33mEncoder\u001b[0m)           │                   │            │                   │\n",
       "└─────────────────────┴───────────────────┴────────────┴───────────────────┘\n"
      ]
     },
     "metadata": {},
     "output_type": "display_data"
    },
    {
     "data": {
      "text/html": [
       "<pre style=\"white-space:pre;overflow-x:auto;line-height:normal;font-family:Menlo,'DejaVu Sans Mono',consolas,'Courier New',monospace\"><span style=\"font-weight: bold\"> Total params: </span><span style=\"color: #00af00; text-decoration-color: #00af00\">1,978,112</span> (7.55 MB)\n",
       "</pre>\n"
      ],
      "text/plain": [
       "\u001b[1m Total params: \u001b[0m\u001b[38;5;34m1,978,112\u001b[0m (7.55 MB)\n"
      ]
     },
     "metadata": {},
     "output_type": "display_data"
    },
    {
     "data": {
      "text/html": [
       "<pre style=\"white-space:pre;overflow-x:auto;line-height:normal;font-family:Menlo,'DejaVu Sans Mono',consolas,'Courier New',monospace\"><span style=\"font-weight: bold\"> Trainable params: </span><span style=\"color: #00af00; text-decoration-color: #00af00\">1,978,112</span> (7.55 MB)\n",
       "</pre>\n"
      ],
      "text/plain": [
       "\u001b[1m Trainable params: \u001b[0m\u001b[38;5;34m1,978,112\u001b[0m (7.55 MB)\n"
      ]
     },
     "metadata": {},
     "output_type": "display_data"
    },
    {
     "data": {
      "text/html": [
       "<pre style=\"white-space:pre;overflow-x:auto;line-height:normal;font-family:Menlo,'DejaVu Sans Mono',consolas,'Courier New',monospace\"><span style=\"font-weight: bold\"> Non-trainable params: </span><span style=\"color: #00af00; text-decoration-color: #00af00\">0</span> (0.00 B)\n",
       "</pre>\n"
      ],
      "text/plain": [
       "\u001b[1m Non-trainable params: \u001b[0m\u001b[38;5;34m0\u001b[0m (0.00 B)\n"
      ]
     },
     "metadata": {},
     "output_type": "display_data"
    }
   ],
   "source": [
    "m_test=test(output_voc)\n"
   ]
  },
  {
   "cell_type": "code",
   "execution_count": null,
   "id": "aa687078-5aaf-4b24-ba80-8ab213336f26",
   "metadata": {},
   "outputs": [],
   "source": [
    "m_test((input_embedding,output_embedding))"
   ]
  },
  {
   "cell_type": "code",
   "execution_count": 568,
   "id": "5aea97e5-6918-44ea-b897-1b7a21d007f7",
   "metadata": {},
   "outputs": [],
   "source": [
    "out=tf.keras.layers.Dense(8)(dec_output)"
   ]
  },
  {
   "cell_type": "code",
   "execution_count": 469,
   "id": "8226adc1-aecb-4692-8df7-5781ba0110ed",
   "metadata": {},
   "outputs": [
    {
     "data": {
      "text/plain": [
       "0"
      ]
     },
     "execution_count": 469,
     "metadata": {},
     "output_type": "execute_result"
    }
   ],
   "source": []
  },
  {
   "cell_type": "code",
   "execution_count": null,
   "id": "b2e247b9-3258-4dc6-bc1a-8c4effb7bbb6",
   "metadata": {},
   "outputs": [],
   "source": []
  },
  {
   "cell_type": "code",
   "execution_count": null,
   "id": "c05a8819-79e8-41c7-80ee-19c7b0c27681",
   "metadata": {},
   "outputs": [],
   "source": []
  },
  {
   "cell_type": "code",
   "execution_count": null,
   "id": "319e2d87-2c29-46cc-97c7-65e2e7c2ab25",
   "metadata": {},
   "outputs": [],
   "source": []
  }
 ],
 "metadata": {
  "kernelspec": {
   "display_name": "python3.12(tensorflow)",
   "language": "python",
   "name": "tenforflow"
  },
  "language_info": {
   "codemirror_mode": {
    "name": "ipython",
    "version": 3
   },
   "file_extension": ".py",
   "mimetype": "text/x-python",
   "name": "python",
   "nbconvert_exporter": "python",
   "pygments_lexer": "ipython3",
   "version": "3.12.4"
  }
 },
 "nbformat": 4,
 "nbformat_minor": 5
}
