{
 "cells": [
  {
   "cell_type": "code",
   "execution_count": 19,
   "id": "efefb796-aae4-4e06-bbbe-25efa2ff0d47",
   "metadata": {},
   "outputs": [],
   "source": [
    "#C:\\Users\\pekas\\Downloads\\Bilder Wuerfel 2 small train test"
   ]
  },
  {
   "cell_type": "code",
   "execution_count": null,
   "id": "e329ef57-7e0a-4ae7-97c4-b3e117feb4f9",
   "metadata": {},
   "outputs": [],
   "source": [
    "from tensorflow.keras.preprocessing.image import img_to_array\n",
    "from tensorflow.keras.preprocessing.image import load_img\n",
    "import numpy as np\n",
    "import tensorflow as tf\n",
    "from tensorflow import keras\n",
    "import matplotlib.pyplot as plt\n",
    "import numpy as np\n",
    "from tensorflow.keras.preprocessing.image import load_img\n",
    "from tensorflow.keras.preprocessing.image import img_to_array\n",
    "import matplotlib.pyplot as plt\n",
    "from tensorflow import keras\n",
    "import tensorflow_addons as tfa\n",
    "from tensorflow.keras.callbacks import ReduceLROnPlateau\n"
   ]
  },
  {
   "cell_type": "code",
   "execution_count": null,
   "id": "c50ea070-8fa0-4812-a40a-e188f1999612",
   "metadata": {},
   "outputs": [],
   "source": [
    "train_data = keras.utils.image_dataset_from_directory(\n",
    "    r'C:\\Users\\pekas\\Downloads\\Bilder Wuerfel 2 small train test\\Bilder Wuerfel 2 small train',  # Pfad zu den Bildern\n",
    "    labels='inferred',            # Labels aus den Dateiname ableiten\n",
    "    # 'int' oder 'categorical' je nach Aufgabe Regression oder Klassifikation\n",
    "    label_mode='int',\n",
    "    class_names=None,             # Man kann optional eine Liste der Klassennamen übergeben\n",
    "    color_mode='rgb',             # Bilder farbig ausgeben. Alternativ: 'grayscale', 'rgba'\n",
    "    # Wie viele Bilder auf einmal von der Festplatte geladen werden\n",
    "    batch_size=1,\n",
    "    image_size=(128, 128),        # Biler auf die angegebene Größe sklaieren\n",
    "    shuffle=True,                 # Vor jeder Epoche die Bilder durchmischen\n",
    "    # if not None Durchmischen in bestimmter Reihenfolge durchführen\n",
    "    seed=0,\n",
    "    validation_split=None,         # Gibt den Anteil der Validationdaten an\n",
    "    # Gibt an, ob man die Trainigs- oder Validationdaten bekommen möchte\n",
    "    subset=None,\n",
    "    interpolation='bilinear',     # Wie die Skalierung durchfgeführt wird\n",
    "    follow_links=False,           # Ordnerstruktur nachverfolgen\n",
    "    # Auf die Bildmitte zuschneiden um das Seitenverhältnis nicht zu verändern\n",
    "    crop_to_aspect_ratio=False)"
   ]
  },
  {
   "cell_type": "code",
   "execution_count": null,
   "id": "5a251c3c-0850-4b53-bdc9-99b506cc23f0",
   "metadata": {},
   "outputs": [],
   "source": [
    "validation_data = keras.utils.image_dataset_from_directory(\n",
    "    r'C:\\Users\\pekas\\Downloads\\Bilder Wuerfel 2 small train test\\Bilder Wuerfel 2 small test',  # Pfad zu den Bildern\n",
    "    labels='inferred',            # Labels aus den Dateiname ableiten\n",
    "    # 'int' oder 'categorical' je nach Aufgabe Regression oder Klassifikation\n",
    "    label_mode='int',\n",
    "    class_names=None,             # Man kann optional eine Liste der Klassennamen übergeben\n",
    "    color_mode='rgb',             # Bilder farbig ausgeben. Alternativ: 'grayscale', 'rgba'\n",
    "    # Wie viele Bilder auf einmal von der Festplatte geladen werden\n",
    "    batch_size=1,\n",
    "    image_size=(128, 128),        # Biler auf die angegebene Größe sklaieren\n",
    "    shuffle=True,                 # Vor jeder Epoche die Bilder durchmischen\n",
    "    # if not None Durchmischen in bestimmter Reihenfolge durchführen\n",
    "    seed=None,\n",
    "    validation_split=None,        # Gibt den Anteil der Validationdaten an\n",
    "    # Gibt an, ob man die Trainigs- oder Validationdaten bekommen möchte\n",
    "    subset=None,\n",
    "    interpolation='bilinear',     # Wie die Skalierung durchfgeführt wird\n",
    "    follow_links=False,           # Ordnerstruktur nachverfolgen\n",
    "    # Auf die Bildmitte zuschneiden um das Seitenverhältnis nicht zu verändern\n",
    "    crop_to_aspect_ratio=False)"
   ]
  },
  {
   "cell_type": "code",
   "execution_count": null,
   "id": "92fa550f-97d7-4069-9fcf-0bca472ad470",
   "metadata": {},
   "outputs": [],
   "source": [
    "image=[]\n",
    "label=[]\n",
    "for images, labels in train_data:\n",
    "    image.append(images[0])\n",
    "    label.append(labels[0])"
   ]
  },
  {
   "cell_type": "code",
   "execution_count": null,
   "id": "08cf1414-4dfb-46a5-9476-d89578ff2bde",
   "metadata": {},
   "outputs": [],
   "source": [
    "X_train=np.array(image)\n",
    "y_train=np.array(label)\n",
    "y_train=y_train+1\n",
    "X_train.shape"
   ]
  },
  {
   "cell_type": "code",
   "execution_count": null,
   "id": "6d76b97d-a158-4785-b655-01b17588057c",
   "metadata": {},
   "outputs": [],
   "source": [
    "def adjust_red(x, training):\n",
    "    if training:\n",
    "        x = np.array(x)\n",
    "        x[:, :, :, 0] = x[:, :, :, 0] + \\\n",
    "            np.random.random(x[:, :, :, 0].shape)*128\n",
    "        x = np.clip(x, 0, 255)\n",
    "    return x\n"
   ]
  },
  {
   "cell_type": "code",
   "execution_count": null,
   "id": "7dbc0045-a199-4fbc-bb91-b367dbc732b1",
   "metadata": {},
   "outputs": [],
   "source": [
    "labels, counts = np.unique(y_train, return_counts=True)\n",
    "labels"
   ]
  },
  {
   "cell_type": "code",
   "execution_count": null,
   "id": "5b8bd9fb-da8a-4200-9991-73404654399a",
   "metadata": {},
   "outputs": [],
   "source": [
    "X_train = tf.image.resize(X_train, [224, 224])\n",
    "X_val = tf.image.resize(X_val, [224, 224])\n",
    "X_train.shape"
   ]
  },
  {
   "cell_type": "code",
   "execution_count": null,
   "id": "95fc55eb-06d3-416e-836c-a00ff67bec94",
   "metadata": {},
   "outputs": [],
   "source": [
    "indices_train= np.arange(len(X_train))  # Créer une liste d'indices\n",
    "indices_train=np.random.shuffle(indices_train)  # Mélanger les indices\n",
    "indices_val = np.arange(len(X_val))  # Créer une liste d'indices\n",
    "indices_val=np.random.shuffle(indices_val)  # Mélanger les indices"
   ]
  },
  {
   "cell_type": "code",
   "execution_count": null,
   "id": "19ac146a-33c6-4376-a2d5-3f6bad558f98",
   "metadata": {},
   "outputs": [],
   "source": [
    "X_train =X_train[indices_train][0]\n",
    "y_train = y_train[indices_train][0]\n",
    "X_train.shape"
   ]
  },
  {
   "cell_type": "code",
   "execution_count": null,
   "id": "47fbf502-dcb0-46c2-a774-5d514c1821c4",
   "metadata": {},
   "outputs": [],
   "source": [
    "model = keras.models.Sequential()\n",
    "model.add(keras.layers.Input((224, 224, 3)))\n",
    "model.add(keras.layers.RandomRotation(\n",
    "    0.02,  # 0.02 * 2*pi = 7.2°\n",
    "    fill_mode=\"constant\",\n",
    "    interpolation=\"bilinear\",\n",
    "    seed=0,\n",
    "    fill_value=128,\n",
    "    input_shape=(128, 128, 3)))\n",
    "model.add(keras.layers.RandomZoom(\n",
    "    [-0.2, 0.0],  # Nur in das Bild hinenzoomen\n",
    "    # width_factor=[-0.2, 0],\n",
    "    fill_mode=\"nearest\",\n",
    "    interpolation=\"bilinear\",\n",
    "    seed=0,\n",
    "    fill_value=180))\n",
    "model.add(keras.layers.RandomFlip(\n",
    "    mode=\"horizontal\", seed=0))\n",
    "model.add(keras.layers.RandomContrast(0.2, seed=0))\n",
    "model.add(keras.layers.RandomBrightness([-0.3, 0.6],\n",
    "                                        value_range=(0, 255),\n",
    "                                        seed=0\n",
    "                                        ))\n",
    "model.add(tf.keras.applications.MobileNet(\n",
    "    weights='imagenet',\n",
    "    input_shape=(224, 224, 3),\n",
    "    classes=1000,\n",
    "    include_top=False,\n",
    "    pooling='avg'))\n",
    "model.add(tf.keras.layers.Flatten())\n",
    "model.add(tf.keras.layers.Dense(100, activation='relu'))\n",
    "model.add(tf.keras.layers.Dense(1, activation='linear'))\n",
    "model.summary()"
   ]
  },
  {
   "cell_type": "code",
   "execution_count": null,
   "id": "2cba1b80-29cd-40fc-8610-f70a8b6a35f7",
   "metadata": {},
   "outputs": [],
   "source": [
    "model.compile(loss=\"mse\",optimizer=keras.optimizers.Adam(learning_rate=0.001),metrics=[tfa.metrics.RSquare()\n",
    "])"
   ]
  },
  {
   "cell_type": "code",
   "execution_count": null,
   "id": "f582cb0f-fd29-4b57-85eb-ccb646ac18e2",
   "metadata": {},
   "outputs": [],
   "source": [
    "lr_callback = ReduceLROnPlateau(monitor='loss', factor=0.6, patience=50, min_lr=1e-6)\n",
    "callbacks=[lr_callback]"
   ]
  },
  {
   "cell_type": "code",
   "execution_count": null,
   "id": "c8132ee9-cfa5-42aa-9229-c07742fbec94",
   "metadata": {},
   "outputs": [],
   "source": [
    "history=model.fit(X_train,y_train,epochs=50,validation_data=(X_val,y_val))"
   ]
  },
  {
   "cell_type": "code",
   "execution_count": null,
   "id": "63d279f1-02e7-4a89-b4fb-6bf7922bdf11",
   "metadata": {},
   "outputs": [],
   "source": []
  },
  {
   "cell_type": "code",
   "execution_count": null,
   "id": "022ee462-362c-419f-b9a1-4b0ce2af7a13",
   "metadata": {},
   "outputs": [],
   "source": []
  },
  {
   "cell_type": "code",
   "execution_count": null,
   "id": "f5395a6e-1a7a-491f-b3e1-5d0e63a59412",
   "metadata": {},
   "outputs": [],
   "source": []
  },
  {
   "cell_type": "code",
   "execution_count": null,
   "id": "361932ad-2cf6-40fe-8ac0-95cbb4765c76",
   "metadata": {},
   "outputs": [],
   "source": []
  },
  {
   "cell_type": "code",
   "execution_count": null,
   "id": "81f5e27e-72e5-465f-af2c-0ffb69f0185b",
   "metadata": {},
   "outputs": [],
   "source": []
  },
  {
   "cell_type": "code",
   "execution_count": null,
   "id": "89e8a7ea-ed1f-4fce-ae3d-3cec292c0855",
   "metadata": {},
   "outputs": [],
   "source": []
  },
  {
   "cell_type": "code",
   "execution_count": 15,
   "id": "7a91b670-2372-4972-b4ad-f5b118a73694",
   "metadata": {},
   "outputs": [],
   "source": []
  },
  {
   "cell_type": "code",
   "execution_count": 16,
   "id": "ecc97470-dac4-48d4-9b38-f3d0c9a4e09f",
   "metadata": {},
   "outputs": [
    {
     "data": {
      "text/plain": [
       "TensorShape([243, 224, 224, 3])"
      ]
     },
     "execution_count": 16,
     "metadata": {},
     "output_type": "execute_result"
    }
   ],
   "source": []
  },
  {
   "cell_type": "code",
   "execution_count": null,
   "id": "a520d696-3a1c-4c11-ad11-a790decf5f5a",
   "metadata": {},
   "outputs": [],
   "source": []
  },
  {
   "cell_type": "code",
   "execution_count": null,
   "id": "ade3ece1-33ed-4b7f-98e0-430f9b8efe12",
   "metadata": {
    "scrolled": true
   },
   "outputs": [],
   "source": []
  },
  {
   "cell_type": "code",
   "execution_count": 18,
   "id": "4a9c965f-1de1-4b5d-87e1-867e26fd777e",
   "metadata": {},
   "outputs": [],
   "source": []
  },
  {
   "cell_type": "code",
   "execution_count": 19,
   "id": "a9d9fb4f-d178-4956-8834-058ee6bf5928",
   "metadata": {},
   "outputs": [],
   "source": []
  },
  {
   "cell_type": "code",
   "execution_count": 22,
   "id": "779e6a82-eb7a-462d-bc08-699b954249b2",
   "metadata": {},
   "outputs": [
    {
     "name": "stdout",
     "output_type": "stream",
     "text": [
      "Epoch 1/50\n",
      "8/8 [==============================] - 18s 2s/step - loss: 0.5169 - r_square: 0.9915 - val_loss: 6.9358 - val_r_square: 0.7803\n",
      "Epoch 2/50\n",
      "8/8 [==============================] - 18s 2s/step - loss: 0.7140 - r_square: 0.9883 - val_loss: 5.9685 - val_r_square: 0.8110\n",
      "Epoch 3/50\n",
      "8/8 [==============================] - 20s 2s/step - loss: 0.4936 - r_square: 0.9919 - val_loss: 6.1473 - val_r_square: 0.8053\n",
      "Epoch 4/50\n",
      "8/8 [==============================] - 20s 2s/step - loss: 0.3930 - r_square: 0.9936 - val_loss: 6.7177 - val_r_square: 0.7873\n",
      "Epoch 5/50\n",
      "8/8 [==============================] - 16s 2s/step - loss: 0.3885 - r_square: 0.9936 - val_loss: 6.2478 - val_r_square: 0.8021\n",
      "Epoch 6/50\n",
      "8/8 [==============================] - 17s 2s/step - loss: 0.3912 - r_square: 0.9936 - val_loss: 6.7014 - val_r_square: 0.7878\n",
      "Epoch 7/50\n",
      "8/8 [==============================] - 18s 2s/step - loss: 0.3346 - r_square: 0.9945 - val_loss: 7.5166 - val_r_square: 0.7619\n",
      "Epoch 8/50\n",
      "8/8 [==============================] - 19s 2s/step - loss: 0.3447 - r_square: 0.9944 - val_loss: 5.7386 - val_r_square: 0.8183\n",
      "Epoch 9/50\n",
      "8/8 [==============================] - 17s 2s/step - loss: 0.3664 - r_square: 0.9940 - val_loss: 6.1116 - val_r_square: 0.8064\n",
      "Epoch 10/50\n",
      "8/8 [==============================] - 17s 2s/step - loss: 0.5747 - r_square: 0.9906 - val_loss: 6.8981 - val_r_square: 0.7815\n",
      "Epoch 11/50\n",
      "8/8 [==============================] - 19s 2s/step - loss: 0.3558 - r_square: 0.9942 - val_loss: 8.7391 - val_r_square: 0.7232\n",
      "Epoch 12/50\n",
      "8/8 [==============================] - 19s 2s/step - loss: 0.5091 - r_square: 0.9917 - val_loss: 6.1329 - val_r_square: 0.8058\n",
      "Epoch 13/50\n",
      "8/8 [==============================] - 16s 2s/step - loss: 0.3702 - r_square: 0.9939 - val_loss: 6.6859 - val_r_square: 0.7883\n",
      "Epoch 14/50\n",
      "8/8 [==============================] - 17s 2s/step - loss: 0.2883 - r_square: 0.9953 - val_loss: 6.4481 - val_r_square: 0.7958\n",
      "Epoch 15/50\n",
      "8/8 [==============================] - 20s 2s/step - loss: 0.3901 - r_square: 0.9936 - val_loss: 7.9125 - val_r_square: 0.7494\n",
      "Epoch 16/50\n",
      "8/8 [==============================] - 19s 2s/step - loss: 0.3476 - r_square: 0.9943 - val_loss: 8.3183 - val_r_square: 0.7366\n",
      "Epoch 17/50\n",
      "8/8 [==============================] - 18s 2s/step - loss: 0.2645 - r_square: 0.9957 - val_loss: 6.7415 - val_r_square: 0.7865\n",
      "Epoch 18/50\n",
      "8/8 [==============================] - 20s 3s/step - loss: 0.2568 - r_square: 0.9958 - val_loss: 6.8383 - val_r_square: 0.7834\n",
      "Epoch 19/50\n",
      "8/8 [==============================] - 20s 2s/step - loss: 0.2238 - r_square: 0.9963 - val_loss: 6.0064 - val_r_square: 0.8098\n",
      "Epoch 20/50\n",
      "8/8 [==============================] - 20s 2s/step - loss: 0.3590 - r_square: 0.9941 - val_loss: 5.8631 - val_r_square: 0.8143\n",
      "Epoch 21/50\n",
      "8/8 [==============================] - 20s 2s/step - loss: 0.3626 - r_square: 0.9941 - val_loss: 5.5955 - val_r_square: 0.8228\n",
      "Epoch 22/50\n",
      "8/8 [==============================] - 19s 2s/step - loss: 0.6743 - r_square: 0.9890 - val_loss: 6.9341 - val_r_square: 0.7804\n",
      "Epoch 23/50\n",
      "8/8 [==============================] - 17s 2s/step - loss: 0.4296 - r_square: 0.9930 - val_loss: 5.6008 - val_r_square: 0.8226\n",
      "Epoch 24/50\n",
      "8/8 [==============================] - 20s 3s/step - loss: 0.4618 - r_square: 0.9924 - val_loss: 5.7059 - val_r_square: 0.8193\n",
      "Epoch 25/50\n",
      "8/8 [==============================] - 20s 3s/step - loss: 0.3161 - r_square: 0.9948 - val_loss: 5.6727 - val_r_square: 0.8203\n",
      "Epoch 26/50\n",
      "8/8 [==============================] - 18s 2s/step - loss: 0.4532 - r_square: 0.9926 - val_loss: 5.9823 - val_r_square: 0.8105\n",
      "Epoch 27/50\n",
      "8/8 [==============================] - 17s 2s/step - loss: 0.3716 - r_square: 0.9939 - val_loss: 6.0437 - val_r_square: 0.8086\n",
      "Epoch 28/50\n",
      "8/8 [==============================] - 20s 3s/step - loss: 0.4848 - r_square: 0.9921 - val_loss: 6.9066 - val_r_square: 0.7813\n",
      "Epoch 29/50\n",
      "8/8 [==============================] - 20s 3s/step - loss: 0.4657 - r_square: 0.9924 - val_loss: 6.1298 - val_r_square: 0.8059\n",
      "Epoch 30/50\n",
      "8/8 [==============================] - 21s 3s/step - loss: 0.4303 - r_square: 0.9930 - val_loss: 6.5497 - val_r_square: 0.7926\n",
      "Epoch 31/50\n",
      "8/8 [==============================] - 20s 2s/step - loss: 0.3292 - r_square: 0.9946 - val_loss: 6.2981 - val_r_square: 0.8005\n",
      "Epoch 32/50\n",
      "8/8 [==============================] - 17s 2s/step - loss: 0.4028 - r_square: 0.9934 - val_loss: 5.7429 - val_r_square: 0.8181\n",
      "Epoch 33/50\n",
      "8/8 [==============================] - 20s 3s/step - loss: 0.3459 - r_square: 0.9943 - val_loss: 5.5375 - val_r_square: 0.8246\n",
      "Epoch 34/50\n",
      "8/8 [==============================] - 20s 3s/step - loss: 0.2674 - r_square: 0.9956 - val_loss: 6.2228 - val_r_square: 0.8029\n",
      "Epoch 35/50\n",
      "8/8 [==============================] - 20s 3s/step - loss: 0.2652 - r_square: 0.9957 - val_loss: 5.4191 - val_r_square: 0.8284\n",
      "Epoch 36/50\n",
      "8/8 [==============================] - 16s 2s/step - loss: 0.2307 - r_square: 0.9962 - val_loss: 6.2344 - val_r_square: 0.8026\n",
      "Epoch 37/50\n",
      "8/8 [==============================] - 19s 2s/step - loss: 0.3682 - r_square: 0.9940 - val_loss: 6.4790 - val_r_square: 0.7948\n",
      "Epoch 38/50\n",
      "8/8 [==============================] - 19s 2s/step - loss: 0.2327 - r_square: 0.9962 - val_loss: 6.6074 - val_r_square: 0.7907\n",
      "Epoch 39/50\n",
      "8/8 [==============================] - 21s 3s/step - loss: 0.2480 - r_square: 0.9959 - val_loss: 6.5285 - val_r_square: 0.7932\n",
      "Epoch 40/50\n",
      "8/8 [==============================] - 19s 2s/step - loss: 0.2960 - r_square: 0.9952 - val_loss: 7.6094 - val_r_square: 0.7590\n",
      "Epoch 41/50\n",
      "8/8 [==============================] - 23s 3s/step - loss: 0.2881 - r_square: 0.9953 - val_loss: 7.6717 - val_r_square: 0.7570\n",
      "Epoch 42/50\n",
      "8/8 [==============================] - 21s 3s/step - loss: 0.2305 - r_square: 0.9962 - val_loss: 7.0728 - val_r_square: 0.7760\n",
      "Epoch 43/50\n",
      "8/8 [==============================] - 22s 3s/step - loss: 0.3012 - r_square: 0.9951 - val_loss: 7.4880 - val_r_square: 0.7629\n",
      "Epoch 44/50\n",
      "8/8 [==============================] - 17s 2s/step - loss: 0.3831 - r_square: 0.9937 - val_loss: 6.2254 - val_r_square: 0.8028\n",
      "Epoch 45/50\n",
      "8/8 [==============================] - 17s 2s/step - loss: 0.3652 - r_square: 0.9940 - val_loss: 5.8664 - val_r_square: 0.8142\n",
      "Epoch 46/50\n",
      "8/8 [==============================] - 19s 2s/step - loss: 0.3119 - r_square: 0.9949 - val_loss: 5.8348 - val_r_square: 0.8152\n",
      "Epoch 47/50\n",
      "8/8 [==============================] - 19s 2s/step - loss: 0.1896 - r_square: 0.9969 - val_loss: 5.3378 - val_r_square: 0.8310\n",
      "Epoch 48/50\n",
      "8/8 [==============================] - 20s 2s/step - loss: 0.2071 - r_square: 0.9966 - val_loss: 5.2504 - val_r_square: 0.8337\n",
      "Epoch 49/50\n",
      "8/8 [==============================] - 19s 2s/step - loss: 0.1784 - r_square: 0.9971 - val_loss: 5.4225 - val_r_square: 0.8283\n",
      "Epoch 50/50\n",
      "8/8 [==============================] - 20s 2s/step - loss: 0.2979 - r_square: 0.9951 - val_loss: 6.2129 - val_r_square: 0.8032\n"
     ]
    }
   ],
   "source": []
  },
  {
   "cell_type": "code",
   "execution_count": null,
   "id": "207471ef-d4a7-4c5a-9c7a-4ffea7f06359",
   "metadata": {},
   "outputs": [],
   "source": []
  },
  {
   "cell_type": "code",
   "execution_count": null,
   "id": "39e2df1f-6676-4e78-b744-bb173f24635b",
   "metadata": {},
   "outputs": [],
   "source": []
  },
  {
   "cell_type": "code",
   "execution_count": null,
   "id": "b2a9aff8-7d7d-4078-b55e-c41a5a7b8c07",
   "metadata": {},
   "outputs": [],
   "source": []
  },
  {
   "cell_type": "code",
   "execution_count": null,
   "id": "e331cdd7-02ca-4868-923e-2a90dc611fa5",
   "metadata": {},
   "outputs": [],
   "source": []
  },
  {
   "cell_type": "code",
   "execution_count": null,
   "id": "9a461d56-407d-40f2-bb39-796ad04dbe24",
   "metadata": {},
   "outputs": [],
   "source": []
  },
  {
   "cell_type": "code",
   "execution_count": null,
   "id": "8c9f5bcb-95e3-46dc-be5a-3e19801ceec1",
   "metadata": {},
   "outputs": [],
   "source": []
  },
  {
   "cell_type": "code",
   "execution_count": null,
   "id": "2ebf1794-3501-4323-af86-54a8e0f8d92a",
   "metadata": {},
   "outputs": [],
   "source": []
  }
 ],
 "metadata": {
  "kernelspec": {
   "display_name": "Python 3 (ipykernel)",
   "language": "python",
   "name": "python3"
  },
  "language_info": {
   "codemirror_mode": {
    "name": "ipython",
    "version": 3
   },
   "file_extension": ".py",
   "mimetype": "text/x-python",
   "name": "python",
   "nbconvert_exporter": "python",
   "pygments_lexer": "ipython3",
   "version": "3.10.16"
  }
 },
 "nbformat": 4,
 "nbformat_minor": 5
}
