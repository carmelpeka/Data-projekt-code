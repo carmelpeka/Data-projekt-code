{
 "cells": [
  {
   "cell_type": "code",
   "execution_count": 4,
   "id": "5dde7cef-041c-4f07-9dc0-f08f8393e560",
   "metadata": {},
   "outputs": [],
   "source": [
    "import pandas as pd\n",
    "import numpy as np\n",
    "from datetime import datetime\n",
    "from dateutil import parser\n",
    "import seaborn as sns\n",
    "import matplotlib.pyplot as plt\n",
    "from sklearn.pipeline import make_pipeline\n",
    "from sklearn.pipeline  import make_union\n",
    "from sklearn.model_selection import train_test_split\n",
    "from sklearn.compose import make_column_transformer\n",
    "from sklearn.preprocessing import StandardScaler, OneHotEncoder\n",
    "from sklearn.tree import DecisionTreeRegressor\n",
    "from sklearn.neighbors import KNeighborsRegressor\n",
    "from sklearn.decomposition import PCA\n",
    "from sklearn.svm import SVR\n",
    "from sklearn.model_selection import cross_val_score\n",
    "from sklearn.model_selection import GridSearchCV\n",
    "from sklearn.metrics import mean_squared_error,r2_score,mean_absolute_error\n",
    "from sklearn.ensemble import VotingRegressor\n",
    "from sklearn.neighbors import KNeighborsRegressor\n",
    "from sklearn.linear_model import Ridge\n",
    "import time"
   ]
  },
  {
   "cell_type": "code",
   "execution_count": 5,
   "id": "25d03dde-0cf1-430f-a4ca-63ca0325f905",
   "metadata": {},
   "outputs": [],
   "source": [
    "# Load csv\n",
    "df_raw =pd.read_csv(\"London_bike_sharing_dataset.csv\", parse_dates=[\"timestamp\"])\n",
    "\n",
    "# Arbeitskopie erstellen\n",
    "df = df_raw.copy()\n",
    "\n",
    "df['Datum'] = pd.to_datetime(df['timestamp']).dt.date\n",
    "df['Zeit'] = pd.to_datetime(df['timestamp']).dt.time\n",
    "df['Stunde'] = pd.to_datetime(df['timestamp']).dt.hour\n",
    "df['Tag'] = pd.to_datetime(df['timestamp']).dt.day\n",
    "df['Monat'] = pd.to_datetime(df['timestamp']).dt.month\n",
    "df['Wochentag'] = pd.to_datetime(df['timestamp']).dt.weekday\n",
    "\n",
    "# ausgewählte Daten\n",
    "X = df.iloc[:, 2:]\n",
    "y = df.iloc[:, 1]\n",
    "\n",
    "# Train-Test Split\n",
    "Xtrain, Xtest, ytrain, ytest = train_test_split(X, y, test_size=0.33, random_state=42)\n",
    "\n",
    "# Preprocessing\n",
    "numerical_features = ['t1', 't2', 'hum', 'wind_speed']\n",
    "categorical_features = ['weather_code', 'is_holiday', 'is_weekend', 'season', 'Stunde', 'Monat', 'Tag']\n",
    "\n",
    "numerical_pipeline = make_pipeline(StandardScaler(), PCA(n_components=3))\n",
    "categorical_pipeline = make_pipeline(OneHotEncoder(handle_unknown='ignore'))\n",
    "\n",
    "preprocessor = make_column_transformer(\n",
    "    (numerical_pipeline, numerical_features),\n",
    "    (categorical_pipeline, categorical_features)\n",
    ")\n"
   ]
  },
  {
   "cell_type": "code",
   "execution_count": 17,
   "id": "fb769f72-9490-444a-b21e-2ba109683a49",
   "metadata": {},
   "outputs": [],
   "source": [
    "#predict für einige Werte "
   ]
  },
  {
   "cell_type": "code",
   "execution_count": 6,
   "id": "f03a3023-6416-4445-a880-006dd8395d94",
   "metadata": {},
   "outputs": [
    {
     "data": {
      "text/plain": [
       "0.9541132525703618"
      ]
     },
     "execution_count": 6,
     "metadata": {},
     "output_type": "execute_result"
    }
   ],
   "source": [
    "model=make_pipeline(preprocessor,SVR(kernel='rbf', C=1e3))\n",
    "model.fit(Xtrain,ytrain)\n",
    "model\n",
    "model.score(Xtrain,ytrain)"
   ]
  },
  {
   "cell_type": "code",
   "execution_count": null,
   "id": "5cc3b544-b178-476a-b8be-8b18b5199e5a",
   "metadata": {},
   "outputs": [],
   "source": [
    "#cross_val_score"
   ]
  },
  {
   "cell_type": "code",
   "execution_count": 7,
   "id": "3086c92f-d5aa-4c0b-bba8-b4db9b9e995c",
   "metadata": {},
   "outputs": [
    {
     "data": {
      "text/plain": [
       "array([0.92080787, 0.92741957, 0.92097109, 0.93720509, 0.92682433])"
      ]
     },
     "execution_count": 7,
     "metadata": {},
     "output_type": "execute_result"
    }
   ],
   "source": [
    "Scores2=cross_val_score(model, Xtrain, ytrain, cv=5) \n",
    "Scores2"
   ]
  },
  {
   "cell_type": "code",
   "execution_count": null,
   "id": "aea34200-bc42-43c7-aa6c-e701d592a746",
   "metadata": {},
   "outputs": [],
   "source": [
    "#GridSearchCV"
   ]
  },
  {
   "cell_type": "code",
   "execution_count": 8,
   "id": "f05ec79f-ff9b-4d5d-aabb-68c1aee06e50",
   "metadata": {},
   "outputs": [],
   "source": [
    "param={\n",
    "'svr__gamma' : [1e-2, 1e-1]}\n",
    "start = time.time()\n",
    "grid=GridSearchCV(model,param_grid=param)\n",
    "grid.fit(Xtrain,ytrain)\n",
    "end=time.time()"
   ]
  },
  {
   "cell_type": "code",
   "execution_count": 9,
   "id": "5e71de4d-93bb-459f-8e74-e1abe0a1c7dc",
   "metadata": {},
   "outputs": [
    {
     "name": "stdout",
     "output_type": "stream",
     "text": [
      "Laufzeit: 138.98 Sekunden\n"
     ]
    }
   ],
   "source": [
    "print(f\"Laufzeit: {end - start:.2f} Sekunden\")"
   ]
  },
  {
   "cell_type": "code",
   "execution_count": 18,
   "id": "e9d59809-be3a-4a97-b6c4-d9e44801252b",
   "metadata": {},
   "outputs": [],
   "source": [
    "y_pred=grid.best_estimator_.predict(Xtest)"
   ]
  },
  {
   "cell_type": "code",
   "execution_count": 10,
   "id": "7a4dd356-88ad-4b3d-a730-d11e68881395",
   "metadata": {},
   "outputs": [],
   "source": [
    "#Fehler"
   ]
  },
  {
   "cell_type": "code",
   "execution_count": 11,
   "id": "0dfc2de8-6fee-49fa-b15a-57f51b45b091",
   "metadata": {},
   "outputs": [
    {
     "name": "stdout",
     "output_type": "stream",
     "text": [
      "mse 66684.15350507636\n",
      "r2_score 0.9440733924641438\n",
      "mae 151.13031953990384\n"
     ]
    }
   ],
   "source": [
    "r=r2_score(ytest,y_pred)\n",
    "mse = mean_squared_error(ytest, y_pred)\n",
    "mae = mean_absolute_error(ytest, y_pred)\n",
    "print('mse',mse)\n",
    "print('r2_score',r)\n",
    "print('mae',mae)"
   ]
  },
  {
   "cell_type": "code",
   "execution_count": 25,
   "id": "18b8939a-001c-4560-b5a2-52917a07428c",
   "metadata": {},
   "outputs": [
    {
     "data": {
      "text/plain": [
       "Text(0.5, 0, 'Error (ytest - y_pred)')"
      ]
     },
     "execution_count": 25,
     "metadata": {},
     "output_type": "execute_result"
    },
    {
     "data": {
      "image/png": "[encoded data removed]",
      "text/plain": [
       "<Figure size 640x480 with 1 Axes>"
      ]
     },
     "metadata": {},
     "output_type": "display_data"
    }
   ],
   "source": [
    "sns.histplot(abs(ytest-y_pred), bins=500, kde=True, color='blue')\n",
    "plt.xlabel(\"Error (ytest - y_pred)\", fontsize=12)"
   ]
  },
  {
   "cell_type": "code",
   "execution_count": null,
   "id": "561c56bb-461b-4a1d-ad8f-390b8c94ef00",
   "metadata": {},
   "outputs": [],
   "source": [
    "y-0.2*y<ypred<y+0.2*y"
   ]
  },
  {
   "cell_type": "code",
   "execution_count": null,
   "id": "418d1782-ac31-4dd6-8318-ff6c28f69783",
   "metadata": {},
   "outputs": [],
   "source": []
  },
  {
   "cell_type": "code",
   "execution_count": 23,
   "id": "2104a3bb-40ab-42cb-970b-ea652d2da445",
   "metadata": {},
   "outputs": [],
   "source": []
  },
  {
   "cell_type": "code",
   "execution_count": null,
   "id": "6b86b9c9-888f-4b1b-9371-47ae56b1e012",
   "metadata": {},
   "outputs": [],
   "source": []
  },
  {
   "cell_type": "code",
   "execution_count": null,
   "id": "b15713f2-94d0-49ab-ac91-b698c20cc50b",
   "metadata": {},
   "outputs": [],
   "source": []
  },
  {
   "cell_type": "code",
   "execution_count": null,
   "id": "036503d4-2407-4976-977a-47ed0b0e7fdd",
   "metadata": {},
   "outputs": [],
   "source": []
  },
  {
   "cell_type": "code",
   "execution_count": 94,
   "id": "348bfc53-3658-4443-a991-be0d299e9f01",
   "metadata": {},
   "outputs": [],
   "source": []
  },
  {
   "cell_type": "code",
   "execution_count": null,
   "id": "da2d21b8-90b9-4dd2-8ab7-ecb2f7bf7dc7",
   "metadata": {},
   "outputs": [],
   "source": [
    "\n",
    "\n"
   ]
  },
  {
   "cell_type": "code",
   "execution_count": null,
   "id": "a2408236-f5e3-4dac-87bc-ae5868ac0dac",
   "metadata": {},
   "outputs": [],
   "source": []
  },
  {
   "cell_type": "code",
   "execution_count": null,
   "id": "47c956f8-8eb0-4e4a-a02b-a9d4a2a0d91f",
   "metadata": {},
   "outputs": [],
   "source": []
  }
 ],
 "metadata": {
  "kernelspec": {
   "display_name": "Python 3 (ipykernel)",
   "language": "python",
   "name": "python3"
  },
  "language_info": {
   "codemirror_mode": {
    "name": "ipython",
    "version": 3
   },
   "file_extension": ".py",
   "mimetype": "text/x-python",
   "name": "python",
   "nbconvert_exporter": "python",
   "pygments_lexer": "ipython3",
   "version": "3.10.16"
  }
 },
 "nbformat": 4,
 "nbformat_minor": 5
}
